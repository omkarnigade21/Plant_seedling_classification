{
  "nbformat": 4,
  "nbformat_minor": 0,
  "metadata": {
    "colab": {
      "provenance": [],
      "gpuType": "T4"
    },
    "kernelspec": {
      "name": "python3",
      "display_name": "Python 3"
    },
    "language_info": {
      "name": "python"
    },
    "accelerator": "GPU"
  },
  "cells": [
    {
      "cell_type": "code",
      "execution_count": 1,
      "metadata": {
        "colab": {
          "base_uri": "https://localhost:8080/"
        },
        "id": "PNQgErHfZJpr",
        "outputId": "792c029a-7a0e-4e0a-d1b4-3c5be5c80226"
      },
      "outputs": [
        {
          "output_type": "stream",
          "name": "stdout",
          "text": [
            "Collecting split-folders\n",
            "  Downloading split_folders-0.5.1-py3-none-any.whl (8.4 kB)\n",
            "Installing collected packages: split-folders\n",
            "Successfully installed split-folders-0.5.1\n"
          ]
        }
      ],
      "source": [
        "!pip install split-folders  # install split folder to split all folders randomly for train, test, val"
      ]
    },
    {
      "cell_type": "code",
      "source": [
        "# import required libraries\n",
        "import os\n",
        "import pathlib\n",
        "import numpy as np\n",
        "import pandas as pd\n",
        "import matplotlib.pyplot as plt\n",
        "import PIL\n",
        "\n",
        "import tensorflow as tf\n",
        "from tensorflow import keras\n",
        "from tensorflow.keras import layers\n",
        "from tensorflow.keras.models import Sequential\n",
        "from tensorflow.keras.layers import Dense, Dropout, Activation, Flatten, Conv2D, MaxPooling2D, BatchNormalization\n",
        "from tensorflow.keras import regularizers\n",
        "from tensorflow.keras.callbacks import EarlyStopping,ReduceLROnPlateau,ModelCheckpoint\n",
        "from tensorflow.keras.preprocessing.image import ImageDataGenerator\n",
        "from tensorflow.keras.optimizers import Adam"
      ],
      "metadata": {
        "id": "jmUhckPfZRWh"
      },
      "execution_count": 2,
      "outputs": []
    },
    {
      "cell_type": "code",
      "source": [
        "!pip install keras\n",
        "import keras\n",
        "from keras import layers\n",
        "from keras.applications import DenseNet121\n",
        "from keras.callbacks import Callback, ModelCheckpoint\n",
        "from keras.preprocessing.image import ImageDataGenerator\n",
        "from keras.layers import Dense, Dropout, Activation, Flatten\n",
        "from keras.layers import Conv2D, MaxPooling2D\n",
        "from keras.models import Sequential\n"
      ],
      "metadata": {
        "colab": {
          "base_uri": "https://localhost:8080/"
        },
        "id": "-KJNeGGP3Qdu",
        "outputId": "79d32ab7-be4e-44f6-c24e-76a6f5333c6d"
      },
      "execution_count": 3,
      "outputs": [
        {
          "output_type": "stream",
          "name": "stdout",
          "text": [
            "Requirement already satisfied: keras in /usr/local/lib/python3.10/dist-packages (2.12.0)\n"
          ]
        }
      ]
    },
    {
      "cell_type": "code",
      "source": [
        "from google.colab import drive # Mounting drive\n",
        "drive.mount('/content/drive')"
      ],
      "metadata": {
        "colab": {
          "base_uri": "https://localhost:8080/"
        },
        "id": "aDJj2UvwZRYW",
        "outputId": "2e74ffd2-f316-4d42-a62d-71fb312e4878"
      },
      "execution_count": 4,
      "outputs": [
        {
          "output_type": "stream",
          "name": "stdout",
          "text": [
            "Mounted at /content/drive\n"
          ]
        }
      ]
    },
    {
      "cell_type": "code",
      "source": [
        "import splitfolders\n",
        "\n",
        "input_folder = '/content/drive/MyDrive/Plant seedling Classification' # Folder where images of all classes stored\n",
        "output_folder = '/content/dataset'\n",
        "\n",
        "splitfolders.ratio(input_folder, output=output_folder, seed=42, ratio=(.8, .0, .2)) # splitted data train, val,test"
      ],
      "metadata": {
        "colab": {
          "base_uri": "https://localhost:8080/"
        },
        "id": "1gG-CalMZRZ9",
        "outputId": "b2269f8a-fc1a-4872-bf1a-5a199e5975e7"
      },
      "execution_count": 5,
      "outputs": [
        {
          "output_type": "stream",
          "name": "stderr",
          "text": [
            "Copying files: 5609 files [01:29, 62.64 files/s] \n"
          ]
        }
      ]
    },
    {
      "cell_type": "code",
      "source": [
        "import glob\n",
        "\n",
        "train_length = 0\n",
        "test_length = 0\n",
        "\n",
        "for name in glob.glob('/content/dataset/train/*'):\n",
        "  train_length += len(glob.glob(name+'/*.png'))\n",
        "\n",
        "for name in glob.glob('/content/dataset/test/*'):\n",
        "  test_length += len(glob.glob(name+'/*.png'))\n",
        "\n",
        "print(train_length,test_length)"
      ],
      "metadata": {
        "colab": {
          "base_uri": "https://localhost:8080/"
        },
        "id": "PsHlt9CsZRcm",
        "outputId": "54d20c71-1466-4351-cd50-b16ea04da61d"
      },
      "execution_count": 6,
      "outputs": [
        {
          "output_type": "stream",
          "name": "stdout",
          "text": [
            "4481 1128\n"
          ]
        }
      ]
    },
    {
      "cell_type": "code",
      "source": [
        "batch_size = 32\n",
        "img_height = 224\n",
        "img_width = 224"
      ],
      "metadata": {
        "id": "kMg361G_ZReX"
      },
      "execution_count": 7,
      "outputs": []
    },
    {
      "cell_type": "code",
      "source": [
        "data_dir_train = '/content/dataset/train' # path for train dataset\n",
        "data_dir_test = '/content/dataset/test'"
      ],
      "metadata": {
        "id": "r3am7gMBZRgR"
      },
      "execution_count": 8,
      "outputs": []
    },
    {
      "cell_type": "code",
      "source": [
        "# creating train dataset\n",
        "\n",
        "train_ds = tf.keras.preprocessing.image_dataset_from_directory(data_dir_train, validation_split=0.2, subset=\"training\", seed=123,\n",
        "                                                               image_size=(img_height, img_width), batch_size=batch_size)"
      ],
      "metadata": {
        "colab": {
          "base_uri": "https://localhost:8080/"
        },
        "id": "JuqKPcgiZRiB",
        "outputId": "dc65d82d-b31b-4282-ea32-2b9c4a2a8930"
      },
      "execution_count": 9,
      "outputs": [
        {
          "output_type": "stream",
          "name": "stdout",
          "text": [
            "Found 4481 files belonging to 12 classes.\n",
            "Using 3585 files for training.\n"
          ]
        }
      ]
    },
    {
      "cell_type": "code",
      "source": [
        "# creating validation dataset\n",
        "\n",
        "val_ds = tf.keras.preprocessing.image_dataset_from_directory(data_dir_train, validation_split=0.2, subset=\"validation\", seed=123,\n",
        "                                                             image_size=(img_height, img_width), batch_size=batch_size)"
      ],
      "metadata": {
        "colab": {
          "base_uri": "https://localhost:8080/"
        },
        "id": "GtSxVqmvZRkM",
        "outputId": "35133601-a096-439c-c50b-def5ef59c43b"
      },
      "execution_count": 10,
      "outputs": [
        {
          "output_type": "stream",
          "name": "stdout",
          "text": [
            "Found 4481 files belonging to 12 classes.\n",
            "Using 896 files for validation.\n"
          ]
        }
      ]
    },
    {
      "cell_type": "code",
      "source": [
        "# Listing out all the classes of plant seedlings and store them in a list (Folder names of each category are classes).\n",
        "\n",
        "labels = sorted(os.listdir(data_dir_train))\n",
        "print(labels)"
      ],
      "metadata": {
        "colab": {
          "base_uri": "https://localhost:8080/"
        },
        "id": "wNUSt4kyZRmI",
        "outputId": "f6d36e4e-0d5b-441f-9225-e9481bcb5e35"
      },
      "execution_count": 11,
      "outputs": [
        {
          "output_type": "stream",
          "name": "stdout",
          "text": [
            "['Black-grass', 'Charlock', 'Cleavers', 'Common Chickweed', 'Common wheat', 'Fat Hen', 'Loose Silky-bent', 'Maize', 'Scentless Mayweed', 'Shepherd’s Purse', 'Small-flowered Cranesbill', 'Sugar beet']\n"
          ]
        }
      ]
    },
    {
      "cell_type": "code",
      "source": [
        "### defining the path for training and test images\n",
        "train_path = \"/content/dataset/train/\"\n",
        "test_path = \"/content/dataset/test/\""
      ],
      "metadata": {
        "id": "GHmDB8unZRoL"
      },
      "execution_count": 12,
      "outputs": []
    },
    {
      "cell_type": "code",
      "source": [
        "### distibution of classes for each category of data\n",
        "### It can be seen that data has imbalances in the class distribution\n",
        "for i in labels:\n",
        "    directory =train_path + i + '/'\n",
        "    class_directory = pathlib.Path(directory)\n",
        "    length=len(list(class_directory.glob('*.png')))\n",
        "    print(f'{i} has {length} samples.')"
      ],
      "metadata": {
        "colab": {
          "base_uri": "https://localhost:8080/"
        },
        "id": "fs_3YT0LZRp6",
        "outputId": "6e6424dd-8608-401c-f897-f865fa3b0905"
      },
      "execution_count": 13,
      "outputs": [
        {
          "output_type": "stream",
          "name": "stdout",
          "text": [
            "Black-grass has 247 samples.\n",
            "Charlock has 361 samples.\n",
            "Cleavers has 273 samples.\n",
            "Common Chickweed has 570 samples.\n",
            "Common wheat has 202 samples.\n",
            "Fat Hen has 432 samples.\n",
            "Loose Silky-bent has 628 samples.\n",
            "Maize has 205 samples.\n",
            "Scentless Mayweed has 514 samples.\n",
            "Shepherd’s Purse has 219 samples.\n",
            "Small-flowered Cranesbill has 460 samples.\n",
            "Sugar beet has 370 samples.\n"
          ]
        }
      ]
    },
    {
      "cell_type": "code",
      "source": [
        "!pip install Augmentor"
      ],
      "metadata": {
        "colab": {
          "base_uri": "https://localhost:8080/"
        },
        "id": "QggRsa-MZRsN",
        "outputId": "cc84b913-26ab-4368-fd84-25ae1c2d26ca"
      },
      "execution_count": 14,
      "outputs": [
        {
          "output_type": "stream",
          "name": "stdout",
          "text": [
            "Collecting Augmentor\n",
            "  Downloading Augmentor-0.2.12-py2.py3-none-any.whl (38 kB)\n",
            "Requirement already satisfied: Pillow>=5.2.0 in /usr/local/lib/python3.10/dist-packages (from Augmentor) (9.4.0)\n",
            "Requirement already satisfied: tqdm>=4.9.0 in /usr/local/lib/python3.10/dist-packages (from Augmentor) (4.65.0)\n",
            "Requirement already satisfied: numpy>=1.11.0 in /usr/local/lib/python3.10/dist-packages (from Augmentor) (1.22.4)\n",
            "Installing collected packages: Augmentor\n",
            "Successfully installed Augmentor-0.2.12\n"
          ]
        }
      ]
    },
    {
      "cell_type": "code",
      "source": [
        "path_to_training_dataset=train_path\n",
        "\n",
        "import Augmentor\n",
        "for i in labels:\n",
        "    p = Augmentor.Pipeline(path_to_training_dataset + i)\n",
        "    p.rotate(probability=0.7, max_left_rotation=10, max_right_rotation=10)\n",
        "    p.sample(500) ## We are adding 500 samples per class to make sure that none of the classes are sparse."
      ],
      "metadata": {
        "colab": {
          "base_uri": "https://localhost:8080/"
        },
        "id": "Ujan6M3TZR0D",
        "outputId": "82a4aadb-3136-4366-9824-33e7a481116b"
      },
      "execution_count": 15,
      "outputs": [
        {
          "output_type": "stream",
          "name": "stdout",
          "text": [
            "Initialised with 247 image(s) found.\n",
            "Output directory set to /content/dataset/train/Black-grass/output."
          ]
        },
        {
          "output_type": "stream",
          "name": "stderr",
          "text": [
            "Processing <PIL.Image.Image image mode=RGB size=983x983 at 0x7D8FCD1F31F0>: 100%|██████████| 500/500 [03:03<00:00,  2.72 Samples/s]\n"
          ]
        },
        {
          "output_type": "stream",
          "name": "stdout",
          "text": [
            "Initialised with 361 image(s) found.\n",
            "Output directory set to /content/dataset/train/Charlock/output."
          ]
        },
        {
          "output_type": "stream",
          "name": "stderr",
          "text": [
            "Processing <PIL.PngImagePlugin.PngImageFile image mode=RGB size=824x824 at 0x7D8FCD12BCA0>: 100%|██████████| 500/500 [00:57<00:00,  8.66 Samples/s]\n"
          ]
        },
        {
          "output_type": "stream",
          "name": "stdout",
          "text": [
            "Initialised with 273 image(s) found.\n",
            "Output directory set to /content/dataset/train/Cleavers/output."
          ]
        },
        {
          "output_type": "stream",
          "name": "stderr",
          "text": [
            "Processing <PIL.Image.Image image mode=RGB size=207x207 at 0x7D8FB20A7790>: 100%|██████████| 500/500 [00:30<00:00, 16.22 Samples/s]\n"
          ]
        },
        {
          "output_type": "stream",
          "name": "stdout",
          "text": [
            "Initialised with 570 image(s) found.\n",
            "Output directory set to /content/dataset/train/Common Chickweed/output."
          ]
        },
        {
          "output_type": "stream",
          "name": "stderr",
          "text": [
            "Processing <PIL.Image.Image image mode=RGB size=437x437 at 0x7D8FB20A4F10>: 100%|██████████| 500/500 [00:19<00:00, 26.06 Samples/s]\n"
          ]
        },
        {
          "output_type": "stream",
          "name": "stdout",
          "text": [
            "Initialised with 202 image(s) found.\n",
            "Output directory set to /content/dataset/train/Common wheat/output."
          ]
        },
        {
          "output_type": "stream",
          "name": "stderr",
          "text": [
            "Processing <PIL.PngImagePlugin.PngImageFile image mode=RGB size=193x193 at 0x7D8FCD158D30>: 100%|██████████| 500/500 [01:14<00:00,  6.75 Samples/s]\n"
          ]
        },
        {
          "output_type": "stream",
          "name": "stdout",
          "text": [
            "Initialised with 432 image(s) found.\n",
            "Output directory set to /content/dataset/train/Fat Hen/output."
          ]
        },
        {
          "output_type": "stream",
          "name": "stderr",
          "text": [
            "Processing <PIL.PngImagePlugin.PngImageFile image mode=RGB size=306x306 at 0x7D8FCD1BDE40>: 100%|██████████| 500/500 [00:38<00:00, 12.90 Samples/s]\n"
          ]
        },
        {
          "output_type": "stream",
          "name": "stdout",
          "text": [
            "Initialised with 628 image(s) found.\n",
            "Output directory set to /content/dataset/train/Loose Silky-bent/output."
          ]
        },
        {
          "output_type": "stream",
          "name": "stderr",
          "text": [
            "Processing <PIL.Image.Image image mode=RGB size=254x254 at 0x7D8FB210AE00>: 100%|██████████| 500/500 [01:10<00:00,  7.10 Samples/s]\n"
          ]
        },
        {
          "output_type": "stream",
          "name": "stdout",
          "text": [
            "Initialised with 205 image(s) found.\n",
            "Output directory set to /content/dataset/train/Maize/output."
          ]
        },
        {
          "output_type": "stream",
          "name": "stderr",
          "text": [
            "Processing <PIL.Image.Image image mode=RGB size=1558x1558 at 0x7D8FCD1A6650>: 100%|██████████| 500/500 [01:34<00:00,  5.26 Samples/s]\n"
          ]
        },
        {
          "output_type": "stream",
          "name": "stdout",
          "text": [
            "Initialised with 514 image(s) found.\n",
            "Output directory set to /content/dataset/train/Scentless Mayweed/output."
          ]
        },
        {
          "output_type": "stream",
          "name": "stderr",
          "text": [
            "Processing <PIL.Image.Image image mode=RGB size=456x456 at 0x7D8FB20A43D0>: 100%|██████████| 500/500 [00:26<00:00, 18.53 Samples/s]\n"
          ]
        },
        {
          "output_type": "stream",
          "name": "stdout",
          "text": [
            "Initialised with 219 image(s) found.\n",
            "Output directory set to /content/dataset/train/Shepherd’s Purse/output."
          ]
        },
        {
          "output_type": "stream",
          "name": "stderr",
          "text": [
            "Processing <PIL.Image.Image image mode=RGB size=377x377 at 0x7D8FCD170C70>: 100%|██████████| 500/500 [00:34<00:00, 14.67 Samples/s]\n"
          ]
        },
        {
          "output_type": "stream",
          "name": "stdout",
          "text": [
            "Initialised with 460 image(s) found.\n",
            "Output directory set to /content/dataset/train/Small-flowered Cranesbill/output."
          ]
        },
        {
          "output_type": "stream",
          "name": "stderr",
          "text": [
            "Processing <PIL.PngImagePlugin.PngImageFile image mode=RGB size=498x498 at 0x7D8FCD1586A0>: 100%|██████████| 500/500 [00:35<00:00, 13.96 Samples/s]\n"
          ]
        },
        {
          "output_type": "stream",
          "name": "stdout",
          "text": [
            "Initialised with 370 image(s) found.\n",
            "Output directory set to /content/dataset/train/Sugar beet/output."
          ]
        },
        {
          "output_type": "stream",
          "name": "stderr",
          "text": [
            "Processing <PIL.Image.Image image mode=RGB size=548x548 at 0x7D8FB20A7310>: 100%|██████████| 500/500 [01:47<00:00,  4.63 Samples/s]\n"
          ]
        }
      ]
    },
    {
      "cell_type": "code",
      "source": [
        "### Distribution of classes after augmentation\n",
        "for i in labels:\n",
        "    directory =train_path+i+'/'\n",
        "    directory_out =train_path+i+'/output/'\n",
        "    class_directory = pathlib.Path(directory)\n",
        "    class_directory_out = pathlib.Path(directory_out)\n",
        "    length=len(list(class_directory.glob('*.png')))\n",
        "    length_out=len(list(class_directory_out.glob('*.png')))\n",
        "    length_tot=length+length_out\n",
        "    print(f'{i} has {length_tot} samples.')"
      ],
      "metadata": {
        "colab": {
          "base_uri": "https://localhost:8080/"
        },
        "id": "lR8JBw5sZR1B",
        "outputId": "7c79b946-5ea6-44e5-ec50-fe0581ac7e15"
      },
      "execution_count": 16,
      "outputs": [
        {
          "output_type": "stream",
          "name": "stdout",
          "text": [
            "Black-grass has 747 samples.\n",
            "Charlock has 861 samples.\n",
            "Cleavers has 773 samples.\n",
            "Common Chickweed has 1070 samples.\n",
            "Common wheat has 702 samples.\n",
            "Fat Hen has 932 samples.\n",
            "Loose Silky-bent has 1128 samples.\n",
            "Maize has 705 samples.\n",
            "Scentless Mayweed has 1014 samples.\n",
            "Shepherd’s Purse has 719 samples.\n",
            "Small-flowered Cranesbill has 960 samples.\n",
            "Sugar beet has 870 samples.\n"
          ]
        }
      ]
    },
    {
      "cell_type": "code",
      "source": [
        "batch_size = 32\n",
        "img_height = 224\n",
        "img_width = 224"
      ],
      "metadata": {
        "id": "_x6MhbsFZR1v"
      },
      "execution_count": 17,
      "outputs": []
    },
    {
      "cell_type": "code",
      "source": [
        "data_dir_train=train_path\n",
        "train_ds = tf.keras.preprocessing.image_dataset_from_directory(\n",
        "  data_dir_train,\n",
        "  seed=123, label_mode='categorical',\n",
        "  validation_split = 0.2,\n",
        "  subset = 'training',\n",
        "  image_size=(img_height, img_width),\n",
        "  batch_size=batch_size)"
      ],
      "metadata": {
        "colab": {
          "base_uri": "https://localhost:8080/"
        },
        "id": "gGvas3UpZR2h",
        "outputId": "74817a00-231e-4f03-c486-5dc6cb39015d"
      },
      "execution_count": 18,
      "outputs": [
        {
          "output_type": "stream",
          "name": "stdout",
          "text": [
            "Found 10481 files belonging to 12 classes.\n",
            "Using 8385 files for training.\n"
          ]
        }
      ]
    },
    {
      "cell_type": "code",
      "source": [
        "val_ds = tf.keras.preprocessing.image_dataset_from_directory(\n",
        "  data_dir_train,\n",
        "  seed=123, label_mode='categorical',\n",
        "  validation_split = 0.2,\n",
        "  subset = 'validation',\n",
        "  image_size=(img_height, img_width),\n",
        "  batch_size=batch_size)"
      ],
      "metadata": {
        "colab": {
          "base_uri": "https://localhost:8080/"
        },
        "id": "8LAprmIHbBrL",
        "outputId": "2f9f0000-1d7f-462a-ae8b-77232e3d9a4c"
      },
      "execution_count": 19,
      "outputs": [
        {
          "output_type": "stream",
          "name": "stdout",
          "text": [
            "Found 10481 files belonging to 12 classes.\n",
            "Using 2096 files for validation.\n"
          ]
        }
      ]
    },
    {
      "cell_type": "code",
      "source": [],
      "metadata": {
        "id": "r9JZ6vqEbBsx"
      },
      "execution_count": null,
      "outputs": []
    },
    {
      "cell_type": "markdown",
      "source": [
        "# DenseNet 121\n",
        "Using denseNet 121 model with imagenet weights."
      ],
      "metadata": {
        "id": "kBlNw0rQHvjd"
      }
    },
    {
      "cell_type": "code",
      "source": [
        "base_model = DenseNet121(\n",
        "    weights='imagenet',\n",
        "    include_top=False,\n",
        "    input_shape=(224,224,3)\n",
        ")"
      ],
      "metadata": {
        "colab": {
          "base_uri": "https://localhost:8080/"
        },
        "id": "uJysAreXH515",
        "outputId": "ccd925c2-faa5-4019-d697-21c9b333b5b7"
      },
      "execution_count": 20,
      "outputs": [
        {
          "output_type": "stream",
          "name": "stdout",
          "text": [
            "Downloading data from https://storage.googleapis.com/tensorflow/keras-applications/densenet/densenet121_weights_tf_dim_ordering_tf_kernels_notop.h5\n",
            "29084464/29084464 [==============================] - 0s 0us/step\n"
          ]
        }
      ]
    },
    {
      "cell_type": "code",
      "source": [
        "input_shape = (224,224,3)\n",
        "num_classes = 12"
      ],
      "metadata": {
        "id": "rqbOUOxeH54L"
      },
      "execution_count": 21,
      "outputs": []
    },
    {
      "cell_type": "code",
      "source": [
        "model = Sequential()\n",
        "model.add(base_model)\n",
        "model.add(layers.GlobalAveragePooling2D())\n",
        "model.add(layers.Dense(num_classes, activation='softmax'))"
      ],
      "metadata": {
        "id": "HQvXwxYj7Dkr"
      },
      "execution_count": 22,
      "outputs": []
    },
    {
      "cell_type": "code",
      "source": [
        "base_model.trainable = False"
      ],
      "metadata": {
        "id": "ZlHZ851v4ZCN"
      },
      "execution_count": 23,
      "outputs": []
    },
    {
      "cell_type": "code",
      "source": [
        "model.compile(optimizer='adam', loss='categorical_crossentropy', metrics=['accuracy'])"
      ],
      "metadata": {
        "id": "jRfrJvTj4ZFN"
      },
      "execution_count": 24,
      "outputs": []
    },
    {
      "cell_type": "code",
      "source": [
        "# spefying the format in which model needs to be saved\n",
        "model_name = 'Seed' + '/'\n",
        "\n",
        "if not os.path.exists(model_name):\n",
        "    os.mkdir(model_name)\n",
        " # giving the file path\n",
        "filepath = model_name + 'model-{epoch:05d}-{loss:.5f}-{val_loss:.5f}-.h5'\n",
        "# Creating the call back for saving only the best models\n",
        "lr_reduce = ReduceLROnPlateau(monitor='val_accuracy', factor=0.6, patience=5, verbose=1, mode='max', min_lr=1e-5)\n",
        "checkpoint = ModelCheckpoint(filepath, monitor='val_loss', verbose=1, save_best_only=True, save_weights_only=False, mode='auto', period=1)\n",
        "# creating the callback for early stopping\n",
        "early_stopping = EarlyStopping(monitor='val_loss', mode='min', verbose=1, patience=5)\n",
        "\n",
        "callbacks_list = [checkpoint, early_stopping, lr_reduce]"
      ],
      "metadata": {
        "colab": {
          "base_uri": "https://localhost:8080/"
        },
        "id": "c9YxRmBC4ZIM",
        "outputId": "08c6fab8-e8a4-456b-b8a7-e146c4f279da"
      },
      "execution_count": 25,
      "outputs": [
        {
          "output_type": "stream",
          "name": "stderr",
          "text": [
            "WARNING:tensorflow:`period` argument is deprecated. Please use `save_freq` to specify the frequency in number of batches seen.\n"
          ]
        }
      ]
    },
    {
      "cell_type": "code",
      "source": [
        "epochs = 200\n",
        "batch_size = 32\n",
        "history = model.fit(train_ds, validation_data=val_ds, epochs=epochs, batch_size=batch_size, callbacks=callbacks_list)"
      ],
      "metadata": {
        "colab": {
          "base_uri": "https://localhost:8080/"
        },
        "id": "UZVXcNNF4ZK4",
        "outputId": "1ee0ba23-fbd3-4478-b7a6-9ad305170bd7"
      },
      "execution_count": 26,
      "outputs": [
        {
          "output_type": "stream",
          "name": "stdout",
          "text": [
            "Epoch 1/200\n",
            "263/263 [==============================] - ETA: 0s - loss: 1.6302 - accuracy: 0.4706\n",
            "Epoch 1: val_loss improved from inf to 1.15282, saving model to Seed/model-00001-1.63022-1.15282-.h5\n",
            "263/263 [==============================] - 135s 407ms/step - loss: 1.6302 - accuracy: 0.4706 - val_loss: 1.1528 - val_accuracy: 0.5988 - lr: 0.0010\n",
            "Epoch 2/200\n",
            "262/263 [============================>.] - ETA: 0s - loss: 0.9815 - accuracy: 0.6811\n",
            "Epoch 2: val_loss improved from 1.15282 to 0.90671, saving model to Seed/model-00002-0.98151-0.90671-.h5\n",
            "263/263 [==============================] - 98s 363ms/step - loss: 0.9815 - accuracy: 0.6811 - val_loss: 0.9067 - val_accuracy: 0.6956 - lr: 0.0010\n",
            "Epoch 3/200\n",
            "262/263 [============================>.] - ETA: 0s - loss: 0.8087 - accuracy: 0.7372\n",
            "Epoch 3: val_loss did not improve from 0.90671\n",
            "263/263 [==============================] - 101s 377ms/step - loss: 0.8089 - accuracy: 0.7371 - val_loss: 0.9071 - val_accuracy: 0.7047 - lr: 0.0010\n",
            "Epoch 4/200\n",
            "262/263 [============================>.] - ETA: 0s - loss: 0.7148 - accuracy: 0.7680\n",
            "Epoch 4: val_loss improved from 0.90671 to 0.73838, saving model to Seed/model-00004-0.71473-0.73838-.h5\n",
            "263/263 [==============================] - 92s 345ms/step - loss: 0.7147 - accuracy: 0.7680 - val_loss: 0.7384 - val_accuracy: 0.7552 - lr: 0.0010\n",
            "Epoch 5/200\n",
            "262/263 [============================>.] - ETA: 0s - loss: 0.6360 - accuracy: 0.7929\n",
            "Epoch 5: val_loss improved from 0.73838 to 0.66839, saving model to Seed/model-00005-0.63602-0.66839-.h5\n",
            "263/263 [==============================] - 92s 339ms/step - loss: 0.6360 - accuracy: 0.7930 - val_loss: 0.6684 - val_accuracy: 0.7805 - lr: 0.0010\n",
            "Epoch 6/200\n",
            "262/263 [============================>.] - ETA: 0s - loss: 0.5861 - accuracy: 0.8108\n",
            "Epoch 6: val_loss improved from 0.66839 to 0.63703, saving model to Seed/model-00006-0.58609-0.63703-.h5\n",
            "263/263 [==============================] - 91s 341ms/step - loss: 0.5861 - accuracy: 0.8109 - val_loss: 0.6370 - val_accuracy: 0.7948 - lr: 0.0010\n",
            "Epoch 7/200\n",
            "262/263 [============================>.] - ETA: 0s - loss: 0.5414 - accuracy: 0.8260\n",
            "Epoch 7: val_loss improved from 0.63703 to 0.62962, saving model to Seed/model-00007-0.54145-0.62962-.h5\n",
            "263/263 [==============================] - 92s 340ms/step - loss: 0.5415 - accuracy: 0.8259 - val_loss: 0.6296 - val_accuracy: 0.7791 - lr: 0.0010\n",
            "Epoch 8/200\n",
            "262/263 [============================>.] - ETA: 0s - loss: 0.5173 - accuracy: 0.8366\n",
            "Epoch 8: val_loss improved from 0.62962 to 0.60646, saving model to Seed/model-00008-0.51753-0.60646-.h5\n",
            "263/263 [==============================] - 91s 341ms/step - loss: 0.5175 - accuracy: 0.8365 - val_loss: 0.6065 - val_accuracy: 0.7948 - lr: 0.0010\n",
            "Epoch 9/200\n",
            "262/263 [============================>.] - ETA: 0s - loss: 0.4907 - accuracy: 0.8390\n",
            "Epoch 9: val_loss improved from 0.60646 to 0.57781, saving model to Seed/model-00009-0.49078-0.57781-.h5\n",
            "263/263 [==============================] - 91s 337ms/step - loss: 0.4908 - accuracy: 0.8389 - val_loss: 0.5778 - val_accuracy: 0.8034 - lr: 0.0010\n",
            "Epoch 10/200\n",
            "262/263 [============================>.] - ETA: 0s - loss: 0.4829 - accuracy: 0.8519\n",
            "Epoch 10: val_loss improved from 0.57781 to 0.53620, saving model to Seed/model-00010-0.48287-0.53620-.h5\n",
            "263/263 [==============================] - 91s 341ms/step - loss: 0.4829 - accuracy: 0.8519 - val_loss: 0.5362 - val_accuracy: 0.8244 - lr: 0.0010\n",
            "Epoch 11/200\n",
            "262/263 [============================>.] - ETA: 0s - loss: 0.4386 - accuracy: 0.8587\n",
            "Epoch 11: val_loss improved from 0.53620 to 0.50094, saving model to Seed/model-00011-0.43851-0.50094-.h5\n",
            "263/263 [==============================] - 91s 338ms/step - loss: 0.4385 - accuracy: 0.8587 - val_loss: 0.5009 - val_accuracy: 0.8387 - lr: 0.0010\n",
            "Epoch 12/200\n",
            "262/263 [============================>.] - ETA: 0s - loss: 0.4196 - accuracy: 0.8630\n",
            "Epoch 12: val_loss did not improve from 0.50094\n",
            "263/263 [==============================] - 93s 347ms/step - loss: 0.4198 - accuracy: 0.8629 - val_loss: 0.5569 - val_accuracy: 0.8111 - lr: 0.0010\n",
            "Epoch 13/200\n",
            "262/263 [============================>.] - ETA: 0s - loss: 0.4283 - accuracy: 0.8699\n",
            "Epoch 13: val_loss did not improve from 0.50094\n",
            "263/263 [==============================] - 90s 336ms/step - loss: 0.4283 - accuracy: 0.8699 - val_loss: 0.5060 - val_accuracy: 0.8235 - lr: 0.0010\n",
            "Epoch 14/200\n",
            "262/263 [============================>.] - ETA: 0s - loss: 0.3872 - accuracy: 0.8764\n",
            "Epoch 14: val_loss improved from 0.50094 to 0.49282, saving model to Seed/model-00014-0.38714-0.49282-.h5\n",
            "263/263 [==============================] - 91s 341ms/step - loss: 0.3871 - accuracy: 0.8764 - val_loss: 0.4928 - val_accuracy: 0.8349 - lr: 0.0010\n",
            "Epoch 15/200\n",
            "262/263 [============================>.] - ETA: 0s - loss: 0.3715 - accuracy: 0.8848\n",
            "Epoch 15: val_loss improved from 0.49282 to 0.47392, saving model to Seed/model-00015-0.37146-0.47392-.h5\n",
            "263/263 [==============================] - 91s 338ms/step - loss: 0.3715 - accuracy: 0.8848 - val_loss: 0.4739 - val_accuracy: 0.8449 - lr: 0.0010\n",
            "Epoch 16/200\n",
            "262/263 [============================>.] - ETA: 0s - loss: 0.3617 - accuracy: 0.8890\n",
            "Epoch 16: val_loss did not improve from 0.47392\n",
            "263/263 [==============================] - 90s 336ms/step - loss: 0.3617 - accuracy: 0.8890 - val_loss: 0.4955 - val_accuracy: 0.8211 - lr: 0.0010\n",
            "Epoch 17/200\n",
            "262/263 [============================>.] - ETA: 0s - loss: 0.3574 - accuracy: 0.8869\n",
            "Epoch 17: val_loss improved from 0.47392 to 0.45747, saving model to Seed/model-00017-0.35737-0.45747-.h5\n",
            "263/263 [==============================] - 92s 341ms/step - loss: 0.3574 - accuracy: 0.8869 - val_loss: 0.4575 - val_accuracy: 0.8454 - lr: 0.0010\n",
            "Epoch 18/200\n",
            "262/263 [============================>.] - ETA: 0s - loss: 0.3377 - accuracy: 0.8938\n",
            "Epoch 18: val_loss did not improve from 0.45747\n",
            "263/263 [==============================] - 90s 335ms/step - loss: 0.3376 - accuracy: 0.8939 - val_loss: 0.4721 - val_accuracy: 0.8373 - lr: 0.0010\n",
            "Epoch 19/200\n",
            "262/263 [============================>.] - ETA: 0s - loss: 0.3353 - accuracy: 0.8948\n",
            "Epoch 19: val_loss did not improve from 0.45747\n",
            "263/263 [==============================] - 92s 345ms/step - loss: 0.3353 - accuracy: 0.8948 - val_loss: 0.4826 - val_accuracy: 0.8454 - lr: 0.0010\n",
            "Epoch 20/200\n",
            "262/263 [============================>.] - ETA: 0s - loss: 0.3208 - accuracy: 0.8991\n",
            "Epoch 20: val_loss improved from 0.45747 to 0.44073, saving model to Seed/model-00020-0.32083-0.44073-.h5\n",
            "263/263 [==============================] - 90s 335ms/step - loss: 0.3208 - accuracy: 0.8991 - val_loss: 0.4407 - val_accuracy: 0.8502 - lr: 0.0010\n",
            "Epoch 21/200\n",
            "262/263 [============================>.] - ETA: 0s - loss: 0.3095 - accuracy: 0.9073\n",
            "Epoch 21: val_loss improved from 0.44073 to 0.43732, saving model to Seed/model-00021-0.30943-0.43732-.h5\n",
            "263/263 [==============================] - 91s 334ms/step - loss: 0.3094 - accuracy: 0.9073 - val_loss: 0.4373 - val_accuracy: 0.8588 - lr: 0.0010\n",
            "Epoch 22/200\n",
            "262/263 [============================>.] - ETA: 0s - loss: 0.3041 - accuracy: 0.9085\n",
            "Epoch 22: val_loss improved from 0.43732 to 0.43473, saving model to Seed/model-00022-0.30429-0.43473-.h5\n",
            "263/263 [==============================] - 89s 331ms/step - loss: 0.3043 - accuracy: 0.9084 - val_loss: 0.4347 - val_accuracy: 0.8521 - lr: 0.0010\n",
            "Epoch 23/200\n",
            "262/263 [============================>.] - ETA: 0s - loss: 0.3036 - accuracy: 0.9049\n",
            "Epoch 23: val_loss did not improve from 0.43473\n",
            "263/263 [==============================] - 88s 328ms/step - loss: 0.3035 - accuracy: 0.9049 - val_loss: 0.4636 - val_accuracy: 0.8454 - lr: 0.0010\n",
            "Epoch 24/200\n",
            "262/263 [============================>.] - ETA: 0s - loss: 0.2879 - accuracy: 0.9120\n",
            "Epoch 24: val_loss improved from 0.43473 to 0.43339, saving model to Seed/model-00024-0.28785-0.43339-.h5\n",
            "263/263 [==============================] - 90s 330ms/step - loss: 0.2879 - accuracy: 0.9120 - val_loss: 0.4334 - val_accuracy: 0.8531 - lr: 0.0010\n",
            "Epoch 25/200\n",
            "262/263 [============================>.] - ETA: 0s - loss: 0.2807 - accuracy: 0.9133\n",
            "Epoch 25: val_loss improved from 0.43339 to 0.41662, saving model to Seed/model-00025-0.28079-0.41662-.h5\n",
            "263/263 [==============================] - 90s 335ms/step - loss: 0.2808 - accuracy: 0.9133 - val_loss: 0.4166 - val_accuracy: 0.8635 - lr: 0.0010\n",
            "Epoch 26/200\n",
            "262/263 [============================>.] - ETA: 0s - loss: 0.2821 - accuracy: 0.9134\n",
            "Epoch 26: val_loss did not improve from 0.41662\n",
            "263/263 [==============================] - 89s 331ms/step - loss: 0.2820 - accuracy: 0.9134 - val_loss: 0.4214 - val_accuracy: 0.8578 - lr: 0.0010\n",
            "Epoch 27/200\n",
            "262/263 [============================>.] - ETA: 0s - loss: 0.2641 - accuracy: 0.9202\n",
            "Epoch 27: val_loss improved from 0.41662 to 0.41064, saving model to Seed/model-00027-0.26406-0.41064-.h5\n",
            "263/263 [==============================] - 90s 336ms/step - loss: 0.2641 - accuracy: 0.9202 - val_loss: 0.4106 - val_accuracy: 0.8573 - lr: 0.0010\n",
            "Epoch 28/200\n",
            "262/263 [============================>.] - ETA: 0s - loss: 0.2576 - accuracy: 0.9247\n",
            "Epoch 28: val_loss did not improve from 0.41064\n",
            "263/263 [==============================] - 91s 339ms/step - loss: 0.2575 - accuracy: 0.9247 - val_loss: 0.4188 - val_accuracy: 0.8640 - lr: 0.0010\n",
            "Epoch 29/200\n",
            "262/263 [============================>.] - ETA: 0s - loss: 0.2594 - accuracy: 0.9237\n",
            "Epoch 29: val_loss improved from 0.41064 to 0.39717, saving model to Seed/model-00029-0.25940-0.39717-.h5\n",
            "263/263 [==============================] - 90s 336ms/step - loss: 0.2594 - accuracy: 0.9237 - val_loss: 0.3972 - val_accuracy: 0.8626 - lr: 0.0010\n",
            "Epoch 30/200\n",
            "262/263 [============================>.] - ETA: 0s - loss: 0.2504 - accuracy: 0.9266\n",
            "Epoch 30: val_loss improved from 0.39717 to 0.38744, saving model to Seed/model-00030-0.25039-0.38744-.h5\n",
            "263/263 [==============================] - 89s 331ms/step - loss: 0.2504 - accuracy: 0.9267 - val_loss: 0.3874 - val_accuracy: 0.8721 - lr: 0.0010\n",
            "Epoch 31/200\n",
            "262/263 [============================>.] - ETA: 0s - loss: 0.2520 - accuracy: 0.9234\n",
            "Epoch 31: val_loss did not improve from 0.38744\n",
            "263/263 [==============================] - 88s 322ms/step - loss: 0.2520 - accuracy: 0.9234 - val_loss: 0.4087 - val_accuracy: 0.8612 - lr: 0.0010\n",
            "Epoch 32/200\n",
            "262/263 [============================>.] - ETA: 0s - loss: 0.2425 - accuracy: 0.9287\n",
            "Epoch 32: val_loss did not improve from 0.38744\n",
            "263/263 [==============================] - 87s 325ms/step - loss: 0.2425 - accuracy: 0.9287 - val_loss: 0.4027 - val_accuracy: 0.8688 - lr: 0.0010\n",
            "Epoch 33/200\n",
            "262/263 [============================>.] - ETA: 0s - loss: 0.2412 - accuracy: 0.9287\n",
            "Epoch 33: val_loss did not improve from 0.38744\n",
            "263/263 [==============================] - 87s 325ms/step - loss: 0.2412 - accuracy: 0.9287 - val_loss: 0.4036 - val_accuracy: 0.8698 - lr: 0.0010\n",
            "Epoch 34/200\n",
            "262/263 [============================>.] - ETA: 0s - loss: 0.2352 - accuracy: 0.9300\n",
            "Epoch 34: val_loss did not improve from 0.38744\n",
            "263/263 [==============================] - 88s 327ms/step - loss: 0.2352 - accuracy: 0.9300 - val_loss: 0.4079 - val_accuracy: 0.8616 - lr: 0.0010\n",
            "Epoch 35/200\n",
            "262/263 [============================>.] - ETA: 0s - loss: 0.2295 - accuracy: 0.9336\n",
            "Epoch 35: val_loss did not improve from 0.38744\n",
            "263/263 [==============================] - 89s 330ms/step - loss: 0.2295 - accuracy: 0.9336 - val_loss: 0.3891 - val_accuracy: 0.8764 - lr: 0.0010\n",
            "Epoch 35: early stopping\n"
          ]
        }
      ]
    },
    {
      "cell_type": "code",
      "source": [
        "### visualizing the model results.\n",
        "acc = history.history['accuracy']\n",
        "val_acc = history.history['val_accuracy']\n",
        "\n",
        "loss = history.history['loss']\n",
        "val_loss = history.history['val_loss']\n",
        "\n",
        "epochs_range = range(35)\n",
        "\n",
        "plt.figure(figsize=(8, 8))\n",
        "plt.subplot(1, 2, 1)\n",
        "plt.plot(epochs_range, acc, label='Training Accuracy')\n",
        "plt.plot(epochs_range, val_acc, label='Validation Accuracy')\n",
        "plt.legend(loc='lower right')\n",
        "plt.title('Training and Validation Accuracy')\n",
        "\n",
        "plt.subplot(1, 2, 2)\n",
        "plt.plot(epochs_range, loss, label='Training Loss')\n",
        "plt.plot(epochs_range, val_loss, label='Validation Loss')\n",
        "plt.legend(loc='upper right')\n",
        "plt.title('Training and Validation Loss')\n",
        "plt.show()"
      ],
      "metadata": {
        "colab": {
          "base_uri": "https://localhost:8080/",
          "height": 699
        },
        "id": "Sy1NiGvz4ZOK",
        "outputId": "2a478cbd-9988-495a-85b6-5228853566f0"
      },
      "execution_count": 27,
      "outputs": [
        {
          "output_type": "display_data",
          "data": {
            "text/plain": [
              "<Figure size 800x800 with 2 Axes>"
            ],
            "image/png": "[encoded data removed]"
          },
          "metadata": {}
        }
      ]
    },
    {
      "cell_type": "markdown",
      "source": [
        "**Observations**\n",
        "\n",
        "1. Achieved validation loss 0.38744 and val accuracy 86%.\n",
        "\n",
        "2. Training is much faster due to transfer learning.\n",
        "\n",
        "3. Model is not much overfitted."
      ],
      "metadata": {
        "id": "QFfGHUWQGR8M"
      }
    },
    {
      "cell_type": "code",
      "source": [],
      "metadata": {
        "id": "Lz6kdL46COaj"
      },
      "execution_count": null,
      "outputs": []
    },
    {
      "cell_type": "markdown",
      "source": [
        "# InceptionV3"
      ],
      "metadata": {
        "id": "RlH8URqfCPMP"
      }
    },
    {
      "cell_type": "code",
      "source": [
        "import tensorflow as tf\n",
        "from tensorflow.keras.applications.inception_v3 import InceptionV3\n",
        "from tensorflow.keras.preprocessing import image\n",
        "from tensorflow.keras.models import Model\n",
        "from tensorflow.keras.layers import Dense, GlobalAveragePooling2D"
      ],
      "metadata": {
        "id": "Hx2_-zoPCOds"
      },
      "execution_count": 45,
      "outputs": []
    },
    {
      "cell_type": "code",
      "source": [
        "base_model = InceptionV3(weights='imagenet', include_top=False)"
      ],
      "metadata": {
        "id": "FcJugOr3COgl"
      },
      "execution_count": 46,
      "outputs": []
    },
    {
      "cell_type": "code",
      "source": [
        "input_shape = (224,224,3)\n",
        "num_classes = 12"
      ],
      "metadata": {
        "id": "nbrKwPksDiQB"
      },
      "execution_count": 47,
      "outputs": []
    },
    {
      "cell_type": "code",
      "source": [
        "x = base_model.output\n",
        "x = GlobalAveragePooling2D()(x)\n",
        "x = Dense(512, activation='relu')(x)\n",
        "predictions = Dense(num_classes, activation='softmax')(x)\n",
        "model = Model(inputs=base_model.input, outputs=predictions)"
      ],
      "metadata": {
        "id": "4Tw6S1Y3DLx_"
      },
      "execution_count": 48,
      "outputs": []
    },
    {
      "cell_type": "code",
      "source": [
        "for layer in base_model.layers:\n",
        "    layer.trainable = False"
      ],
      "metadata": {
        "id": "BTMi3fKwDL1r"
      },
      "execution_count": 49,
      "outputs": []
    },
    {
      "cell_type": "code",
      "source": [
        "model.compile(optimizer='adam', loss='categorical_crossentropy', metrics=['accuracy'])"
      ],
      "metadata": {
        "id": "QjFwhweDDL5x"
      },
      "execution_count": 50,
      "outputs": []
    },
    {
      "cell_type": "code",
      "source": [
        "# spefying the format in which model needs to be saved\n",
        "model_name = 'Seed_v3' + '/'\n",
        "\n",
        "if not os.path.exists(model_name):\n",
        "    os.mkdir(model_name)\n",
        " # giving the file path\n",
        "filepath = model_name + 'model-{epoch:05d}-{loss:.5f}-{val_loss:.5f}-.h5'\n",
        "# Creating the call back for saving only the best models\n",
        "lr_reduce = ReduceLROnPlateau(monitor='val_accuracy', factor=0.6, patience=5, verbose=1, mode='max', min_lr=1e-5)\n",
        "checkpoint = ModelCheckpoint(filepath, monitor='val_loss', verbose=1, save_best_only=True, save_weights_only=False, mode='auto', period=1)\n",
        "# creating the callback for early stopping\n",
        "early_stopping = EarlyStopping(monitor='val_loss', mode='min', verbose=1, patience=5)\n",
        "\n",
        "callbacks_list = [checkpoint, early_stopping, lr_reduce]"
      ],
      "metadata": {
        "colab": {
          "base_uri": "https://localhost:8080/"
        },
        "id": "SXeLrybJDL8a",
        "outputId": "3ae7326c-8a12-432f-8bf0-b35f4e9fd151"
      },
      "execution_count": 51,
      "outputs": [
        {
          "output_type": "stream",
          "name": "stderr",
          "text": [
            "WARNING:tensorflow:`period` argument is deprecated. Please use `save_freq` to specify the frequency in number of batches seen.\n"
          ]
        }
      ]
    },
    {
      "cell_type": "code",
      "source": [
        "epochs = 200\n",
        "batch_size = 32\n",
        "history = model.fit(train_ds, validation_data=val_ds, epochs=epochs, batch_size=batch_size, callbacks=callbacks_list)"
      ],
      "metadata": {
        "colab": {
          "base_uri": "https://localhost:8080/"
        },
        "id": "FPHoQIvsDL-E",
        "outputId": "5e66509d-07ae-4deb-c511-254122bee9e1"
      },
      "execution_count": null,
      "outputs": [
        {
          "output_type": "stream",
          "name": "stdout",
          "text": [
            "Epoch 1/200\n",
            "262/263 [============================>.] - ETA: 0s - loss: 5.3894 - accuracy: 0.1690\n",
            "Epoch 1: val_loss improved from inf to 2.33932, saving model to Seed_v3/model-00001-5.38925-2.33932-.h5\n",
            "263/263 [==============================] - 105s 360ms/step - loss: 5.3893 - accuracy: 0.1690 - val_loss: 2.3393 - val_accuracy: 0.1875 - lr: 0.0010\n",
            "Epoch 2/200\n",
            "262/263 [============================>.] - ETA: 0s - loss: 2.2823 - accuracy: 0.2167\n",
            "Epoch 2: val_loss improved from 2.33932 to 2.25308, saving model to Seed_v3/model-00002-2.28207-2.25308-.h5\n",
            "263/263 [==============================] - 90s 335ms/step - loss: 2.2821 - accuracy: 0.2168 - val_loss: 2.2531 - val_accuracy: 0.2137 - lr: 0.0010\n",
            "Epoch 3/200\n",
            "262/263 [============================>.] - ETA: 0s - loss: 2.1324 - accuracy: 0.2529\n",
            "Epoch 3: val_loss improved from 2.25308 to 2.17429, saving model to Seed_v3/model-00003-2.13248-2.17429-.h5\n",
            "263/263 [==============================] - 91s 333ms/step - loss: 2.1325 - accuracy: 0.2528 - val_loss: 2.1743 - val_accuracy: 0.2538 - lr: 0.0010\n",
            "Epoch 4/200\n",
            "262/263 [============================>.] - ETA: 0s - loss: 2.0657 - accuracy: 0.2785\n",
            "Epoch 4: val_loss improved from 2.17429 to 2.07142, saving model to Seed_v3/model-00004-2.06583-2.07142-.h5\n",
            "263/263 [==============================] - 90s 335ms/step - loss: 2.0658 - accuracy: 0.2785 - val_loss: 2.0714 - val_accuracy: 0.2619 - lr: 0.0010\n",
            "Epoch 5/200\n",
            "262/263 [============================>.] - ETA: 0s - loss: 1.9871 - accuracy: 0.3038\n",
            "Epoch 5: val_loss did not improve from 2.07142\n",
            "263/263 [==============================] - 91s 334ms/step - loss: 1.9871 - accuracy: 0.3038 - val_loss: 2.0764 - val_accuracy: 0.2734 - lr: 0.0010\n",
            "Epoch 6/200\n",
            "262/263 [============================>.] - ETA: 0s - loss: 1.9135 - accuracy: 0.3261\n",
            "Epoch 6: val_loss improved from 2.07142 to 2.01288, saving model to Seed_v3/model-00006-1.91343-2.01288-.h5\n",
            "263/263 [==============================] - 89s 332ms/step - loss: 1.9134 - accuracy: 0.3261 - val_loss: 2.0129 - val_accuracy: 0.2929 - lr: 0.0010\n",
            "Epoch 7/200\n",
            "262/263 [============================>.] - ETA: 0s - loss: 1.8733 - accuracy: 0.3362\n",
            "Epoch 7: val_loss did not improve from 2.01288\n",
            "263/263 [==============================] - 90s 334ms/step - loss: 1.8734 - accuracy: 0.3362 - val_loss: 2.0513 - val_accuracy: 0.3096 - lr: 0.0010\n",
            "Epoch 8/200\n",
            "262/263 [============================>.] - ETA: 0s - loss: 1.8470 - accuracy: 0.3451\n",
            "Epoch 8: val_loss improved from 2.01288 to 2.00544, saving model to Seed_v3/model-00008-1.84707-2.00544-.h5\n",
            "263/263 [==============================] - 90s 335ms/step - loss: 1.8471 - accuracy: 0.3450 - val_loss: 2.0054 - val_accuracy: 0.3006 - lr: 0.0010\n",
            "Epoch 9/200\n",
            "262/263 [============================>.] - ETA: 0s - loss: 1.8123 - accuracy: 0.3681\n",
            "Epoch 9: val_loss did not improve from 2.00544\n",
            "263/263 [==============================] - 92s 343ms/step - loss: 1.8122 - accuracy: 0.3682 - val_loss: 2.0954 - val_accuracy: 0.2968 - lr: 0.0010\n",
            "Epoch 10/200\n",
            "262/263 [============================>.] - ETA: 0s - loss: 1.7515 - accuracy: 0.3851\n",
            "Epoch 10: val_loss improved from 2.00544 to 2.00290, saving model to Seed_v3/model-00010-1.75143-2.00290-.h5\n",
            "263/263 [==============================] - 89s 331ms/step - loss: 1.7514 - accuracy: 0.3852 - val_loss: 2.0029 - val_accuracy: 0.3049 - lr: 0.0010\n",
            "Epoch 11/200\n",
            "262/263 [============================>.] - ETA: 0s - loss: 1.7370 - accuracy: 0.3905\n",
            "Epoch 11: val_loss improved from 2.00290 to 1.97736, saving model to Seed_v3/model-00011-1.73699-1.97736-.h5\n",
            "263/263 [==============================] - 92s 339ms/step - loss: 1.7370 - accuracy: 0.3905 - val_loss: 1.9774 - val_accuracy: 0.3025 - lr: 0.0010\n",
            "Epoch 12/200\n",
            "262/263 [============================>.] - ETA: 0s - loss: 1.7318 - accuracy: 0.3897\n",
            "Epoch 12: val_loss did not improve from 1.97736\n",
            "263/263 [==============================] - 91s 338ms/step - loss: 1.7319 - accuracy: 0.3896 - val_loss: 2.0189 - val_accuracy: 0.3259 - lr: 0.0010\n",
            "Epoch 13/200\n",
            "262/263 [============================>.] - ETA: 0s - loss: 1.7360 - accuracy: 0.3868\n",
            "Epoch 13: val_loss improved from 1.97736 to 1.95158, saving model to Seed_v3/model-00013-1.73591-1.95158-.h5\n",
            "263/263 [==============================] - 94s 350ms/step - loss: 1.7359 - accuracy: 0.3869 - val_loss: 1.9516 - val_accuracy: 0.3130 - lr: 0.0010\n",
            "Epoch 14/200\n",
            "262/263 [============================>.] - ETA: 0s - loss: 1.7045 - accuracy: 0.4004\n",
            "Epoch 14: val_loss did not improve from 1.95158\n",
            "263/263 [==============================] - 91s 340ms/step - loss: 1.7045 - accuracy: 0.4004 - val_loss: 1.9670 - val_accuracy: 0.3173 - lr: 0.0010\n",
            "Epoch 15/200\n",
            "262/263 [============================>.] - ETA: 0s - loss: 1.6595 - accuracy: 0.4054\n",
            "Epoch 15: val_loss improved from 1.95158 to 1.85635, saving model to Seed_v3/model-00015-1.65933-1.85635-.h5\n",
            "263/263 [==============================] - 92s 344ms/step - loss: 1.6593 - accuracy: 0.4055 - val_loss: 1.8563 - val_accuracy: 0.3535 - lr: 0.0010\n",
            "Epoch 16/200\n",
            "262/263 [============================>.] - ETA: 0s - loss: 1.5932 - accuracy: 0.4320\n",
            "Epoch 16: val_loss did not improve from 1.85635\n",
            "263/263 [==============================] - 89s 332ms/step - loss: 1.5933 - accuracy: 0.4320 - val_loss: 1.9055 - val_accuracy: 0.3211 - lr: 0.0010\n",
            "Epoch 17/200\n",
            "262/263 [============================>.] - ETA: 0s - loss: 1.5989 - accuracy: 0.4323\n",
            "Epoch 17: val_loss did not improve from 1.85635\n",
            "263/263 [==============================] - 88s 328ms/step - loss: 1.5987 - accuracy: 0.4323 - val_loss: 1.9662 - val_accuracy: 0.3192 - lr: 0.0010\n",
            "Epoch 18/200\n",
            "262/263 [============================>.] - ETA: 0s - loss: 1.5694 - accuracy: 0.4400\n",
            "Epoch 18: val_loss did not improve from 1.85635\n",
            "263/263 [==============================] - 90s 330ms/step - loss: 1.5694 - accuracy: 0.4400 - val_loss: 2.2936 - val_accuracy: 0.2696 - lr: 0.0010\n",
            "Epoch 19/200\n",
            "262/263 [============================>.] - ETA: 0s - loss: 1.6069 - accuracy: 0.4334\n",
            "Epoch 19: val_loss did not improve from 1.85635\n",
            "263/263 [==============================] - 88s 327ms/step - loss: 1.6068 - accuracy: 0.4335 - val_loss: 1.8813 - val_accuracy: 0.3502 - lr: 0.0010\n",
            "Epoch 20/200\n",
            "262/263 [============================>.] - ETA: 0s - loss: 1.5138 - accuracy: 0.4668\n",
            "Epoch 20: val_loss improved from 1.85635 to 1.76513, saving model to Seed_v3/model-00020-1.51377-1.76513-.h5\n",
            "263/263 [==============================] - 88s 329ms/step - loss: 1.5138 - accuracy: 0.4668 - val_loss: 1.7651 - val_accuracy: 0.3836 - lr: 0.0010\n",
            "Epoch 21/200\n",
            "262/263 [============================>.] - ETA: 0s - loss: 1.5113 - accuracy: 0.4655\n",
            "Epoch 21: val_loss did not improve from 1.76513\n",
            "263/263 [==============================] - 91s 341ms/step - loss: 1.5113 - accuracy: 0.4655 - val_loss: 1.8756 - val_accuracy: 0.3573 - lr: 0.0010\n",
            "Epoch 22/200\n",
            "262/263 [============================>.] - ETA: 0s - loss: 1.5047 - accuracy: 0.4679\n",
            "Epoch 22: val_loss did not improve from 1.76513\n",
            "263/263 [==============================] - 87s 326ms/step - loss: 1.5047 - accuracy: 0.4679 - val_loss: 1.9403 - val_accuracy: 0.3421 - lr: 0.0010\n",
            "Epoch 23/200\n",
            "254/263 [===========================>..] - ETA: 2s - loss: 1.4644 - accuracy: 0.4782"
          ]
        }
      ]
    },
    {
      "cell_type": "code",
      "source": [
        "### visualizing the model results.\n",
        "acc = history.history['accuracy']\n",
        "val_acc = history.history['val_accuracy']\n",
        "\n",
        "loss = history.history['loss']\n",
        "val_loss = history.history['val_loss']\n",
        "\n",
        "epochs_range = range(16)\n",
        "\n",
        "plt.figure(figsize=(8, 8))\n",
        "plt.subplot(1, 2, 1)\n",
        "plt.plot(epochs_range, acc, label='Training Accuracy')\n",
        "plt.plot(epochs_range, val_acc, label='Validation Accuracy')\n",
        "plt.legend(loc='lower right')\n",
        "plt.title('Training and Validation Accuracy')\n",
        "\n",
        "plt.subplot(1, 2, 2)\n",
        "plt.plot(epochs_range, loss, label='Training Loss')\n",
        "plt.plot(epochs_range, val_loss, label='Validation Loss')\n",
        "plt.legend(loc='upper right')\n",
        "plt.title('Training and Validation Loss')\n",
        "plt.show()"
      ],
      "metadata": {
        "colab": {
          "base_uri": "https://localhost:8080/",
          "height": 699
        },
        "id": "yhjeFHzvDMA3",
        "outputId": "5ca55551-b5ca-43f8-e34e-b69cda2b6f88"
      },
      "execution_count": 36,
      "outputs": [
        {
          "output_type": "display_data",
          "data": {
            "text/plain": [
              "<Figure size 800x800 with 2 Axes>"
            ],
            "image/png": "[encoded data removed]"
          },
          "metadata": {}
        }
      ]
    },
    {
      "cell_type": "markdown",
      "source": [
        "**Observations:**\n",
        "\n",
        "1. Val_loss= 1.765, Validation accuracy is lesser than 40%.\n",
        "\n",
        "2. Very poor performance."
      ],
      "metadata": {
        "id": "rmvrJR4_nDRT"
      }
    }
  ]
}