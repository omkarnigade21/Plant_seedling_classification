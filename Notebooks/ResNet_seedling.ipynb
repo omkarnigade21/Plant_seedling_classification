{
  "nbformat": 4,
  "nbformat_minor": 0,
  "metadata": {
    "colab": {
      "provenance": [],
      "gpuType": "T4"
    },
    "kernelspec": {
      "name": "python3",
      "display_name": "Python 3"
    },
    "language_info": {
      "name": "python"
    },
    "accelerator": "GPU"
  },
  "cells": [
    {
      "cell_type": "code",
      "execution_count": 1,
      "metadata": {
        "colab": {
          "base_uri": "https://localhost:8080/"
        },
        "id": "dJWvwC7XtLe7",
        "outputId": "519dcae2-d52a-411f-d6f2-ef25288f1b3a"
      },
      "outputs": [
        {
          "output_type": "stream",
          "name": "stdout",
          "text": [
            "Collecting split-folders\n",
            "  Downloading split_folders-0.5.1-py3-none-any.whl (8.4 kB)\n",
            "Installing collected packages: split-folders\n",
            "Successfully installed split-folders-0.5.1\n",
            "\u001b[31mERROR: Could not find a version that satisfies the requirement tensorflow==2.4 (from versions: 2.8.0rc0, 2.8.0rc1, 2.8.0, 2.8.1, 2.8.2, 2.8.3, 2.8.4, 2.9.0rc0, 2.9.0rc1, 2.9.0rc2, 2.9.0, 2.9.1, 2.9.2, 2.9.3, 2.10.0rc0, 2.10.0rc1, 2.10.0rc2, 2.10.0rc3, 2.10.0, 2.10.1, 2.11.0rc0, 2.11.0rc1, 2.11.0rc2, 2.11.0, 2.11.1, 2.12.0rc0, 2.12.0rc1, 2.12.0, 2.12.1, 2.13.0rc0, 2.13.0rc1, 2.13.0rc2, 2.13.0)\u001b[0m\u001b[31m\n",
            "\u001b[0m\u001b[31mERROR: No matching distribution found for tensorflow==2.4\u001b[0m\u001b[31m\n",
            "\u001b[0m"
          ]
        }
      ],
      "source": [
        "!pip install split-folders\n",
        "!pip install tensorflow==2.4"
      ]
    },
    {
      "cell_type": "code",
      "source": [
        "# import required libraries\n",
        "import os\n",
        "import pathlib\n",
        "import numpy as np\n",
        "import pandas as pd\n",
        "import matplotlib.pyplot as plt\n",
        "import PIL\n",
        "\n",
        "import tensorflow as tf\n",
        "from tensorflow import keras\n",
        "from tensorflow.keras import layers\n",
        "from tensorflow.keras.models import Sequential\n",
        "from tensorflow.keras.layers import Dense, Dropout, Activation, Flatten, Conv2D, MaxPooling2D, BatchNormalization\n",
        "from tensorflow.keras import regularizers\n",
        "from tensorflow.keras.callbacks import EarlyStopping,ReduceLROnPlateau,ModelCheckpoint\n",
        "from tensorflow.keras.preprocessing.image import ImageDataGenerator\n",
        "from tensorflow.keras.optimizers import Adam\n",
        "import tensorflow as tf\n",
        "from tensorflow.keras.applications import ResNet50\n",
        "from tensorflow.keras.models import Sequential\n",
        "from tensorflow.keras.layers import Dense, Flatten, GlobalAveragePooling2D\n"
      ],
      "metadata": {
        "id": "VwcqXBnqtMVP"
      },
      "execution_count": 2,
      "outputs": []
    },
    {
      "cell_type": "code",
      "source": [
        "from google.colab import drive # Mounting drive\n",
        "drive.mount('/content/drive')"
      ],
      "metadata": {
        "colab": {
          "base_uri": "https://localhost:8080/"
        },
        "id": "wIHGMuxttMZt",
        "outputId": "d780fa6f-f2e5-42d6-ce34-f11fdc987be9"
      },
      "execution_count": 3,
      "outputs": [
        {
          "output_type": "stream",
          "name": "stdout",
          "text": [
            "Mounted at /content/drive\n"
          ]
        }
      ]
    },
    {
      "cell_type": "code",
      "source": [
        "import splitfolders\n",
        "\n",
        "input_folder = '/content/drive/MyDrive/Plant seedling Classification' # Folder where images of all classes stored\n",
        "output_folder = '/content/dataset'\n",
        "\n",
        "splitfolders.ratio(input_folder, output=output_folder, seed=42, ratio=(.8, .0, .2)) # splitted data train, val,test"
      ],
      "metadata": {
        "colab": {
          "base_uri": "https://localhost:8080/"
        },
        "id": "9MYK2V9NtMcx",
        "outputId": "af1276aa-52e1-4db7-9fcc-b0fa7dee8e6c"
      },
      "execution_count": 4,
      "outputs": [
        {
          "output_type": "stream",
          "name": "stderr",
          "text": [
            "Copying files: 5609 files [01:09, 81.26 files/s] \n"
          ]
        }
      ]
    },
    {
      "cell_type": "code",
      "source": [
        "import glob\n",
        "\n",
        "train_length = 0\n",
        "test_length = 0\n",
        "\n",
        "for name in glob.glob('/content/dataset/train/*'):\n",
        "  train_length += len(glob.glob(name+'/*.png'))\n",
        "\n",
        "for name in glob.glob('/content/dataset/test/*'):\n",
        "  test_length += len(glob.glob(name+'/*.png'))\n",
        "\n",
        "print(train_length,test_length)"
      ],
      "metadata": {
        "colab": {
          "base_uri": "https://localhost:8080/"
        },
        "id": "JumK5pDutMgF",
        "outputId": "83c4d329-7ba5-406d-b991-a52a9af298c5"
      },
      "execution_count": 5,
      "outputs": [
        {
          "output_type": "stream",
          "name": "stdout",
          "text": [
            "4481 1128\n"
          ]
        }
      ]
    },
    {
      "cell_type": "code",
      "source": [
        "batch_size = 32\n",
        "img_height = 224\n",
        "img_width = 224"
      ],
      "metadata": {
        "id": "_069b0jRtMjU"
      },
      "execution_count": 6,
      "outputs": []
    },
    {
      "cell_type": "code",
      "source": [
        "data_dir_train = '/content/dataset/train' # path for train dataset\n",
        "data_dir_test = '/content/dataset/test'"
      ],
      "metadata": {
        "id": "iz4SEZBztMpC"
      },
      "execution_count": 7,
      "outputs": []
    },
    {
      "cell_type": "code",
      "source": [
        "# creating train dataset\n",
        "\n",
        "train_ds = tf.keras.preprocessing.image_dataset_from_directory(data_dir_train, validation_split=0.2, subset=\"training\", seed=123,\n",
        "                                                               image_size=(img_height, img_width), batch_size=batch_size)"
      ],
      "metadata": {
        "colab": {
          "base_uri": "https://localhost:8080/"
        },
        "id": "UMcJQkCftMsh",
        "outputId": "74db68f2-b000-4bf3-c46d-0800ed408556"
      },
      "execution_count": 8,
      "outputs": [
        {
          "output_type": "stream",
          "name": "stdout",
          "text": [
            "Found 4481 files belonging to 12 classes.\n",
            "Using 3585 files for training.\n"
          ]
        }
      ]
    },
    {
      "cell_type": "code",
      "source": [
        "# creating validation dataset\n",
        "\n",
        "val_ds = tf.keras.preprocessing.image_dataset_from_directory(data_dir_train, validation_split=0.2, subset=\"validation\", seed=123,\n",
        "                                                             image_size=(img_height, img_width), batch_size=batch_size)"
      ],
      "metadata": {
        "colab": {
          "base_uri": "https://localhost:8080/"
        },
        "id": "XXgjuMJGtM0V",
        "outputId": "9ed45932-da9a-4921-d210-6763ba16a33d"
      },
      "execution_count": 9,
      "outputs": [
        {
          "output_type": "stream",
          "name": "stdout",
          "text": [
            "Found 4481 files belonging to 12 classes.\n",
            "Using 896 files for validation.\n"
          ]
        }
      ]
    },
    {
      "cell_type": "code",
      "source": [
        "# Listing out all the classes of plant seedlings and store them in a list (Folder names of each category are classes).\n",
        "\n",
        "labels = sorted(os.listdir(data_dir_train))\n",
        "print(labels)"
      ],
      "metadata": {
        "colab": {
          "base_uri": "https://localhost:8080/"
        },
        "id": "BFRGLgmVtM1R",
        "outputId": "d9d324d4-839e-4ffd-f08e-010121401fd2"
      },
      "execution_count": 10,
      "outputs": [
        {
          "output_type": "stream",
          "name": "stdout",
          "text": [
            "['Black-grass', 'Charlock', 'Cleavers', 'Common Chickweed', 'Common wheat', 'Fat Hen', 'Loose Silky-bent', 'Maize', 'Scentless Mayweed', 'Shepherd’s Purse', 'Small-flowered Cranesbill', 'Sugar beet']\n"
          ]
        }
      ]
    },
    {
      "cell_type": "code",
      "source": [
        "# creating a list which counts the number of images in each class of plant seedling\n",
        "count_plot = []\n",
        "for i in labels:\n",
        "    count_plot.append(len(os.listdir(os.path.join(data_dir_train,i))))"
      ],
      "metadata": {
        "id": "bOEi9bU5tM5O"
      },
      "execution_count": 11,
      "outputs": []
    },
    {
      "cell_type": "code",
      "source": [
        "count_plot  # Number of images of each class"
      ],
      "metadata": {
        "colab": {
          "base_uri": "https://localhost:8080/"
        },
        "id": "wQv6GJJTtNAo",
        "outputId": "34c73cb8-fa81-49e9-87ad-cd8734e04102"
      },
      "execution_count": 12,
      "outputs": [
        {
          "output_type": "execute_result",
          "data": {
            "text/plain": [
              "[247, 361, 273, 570, 202, 432, 628, 205, 514, 219, 460, 370]"
            ]
          },
          "metadata": {},
          "execution_count": 12
        }
      ]
    },
    {
      "cell_type": "code",
      "source": [
        "# creating plot for distribution of images in each class\n",
        "count_plot = np.array(count_plot)\n",
        "plt.bar(labels, count_plot)\n",
        "plt.xticks(rotation = 90)\n",
        "plt.show()"
      ],
      "metadata": {
        "colab": {
          "base_uri": "https://localhost:8080/",
          "height": 593
        },
        "id": "CU9EiitgtNBh",
        "outputId": "a53618a1-cb9e-4b32-d852-d0bd0ff48b76"
      },
      "execution_count": 13,
      "outputs": [
        {
          "output_type": "display_data",
          "data": {
            "text/plain": [
              "<Figure size 640x480 with 1 Axes>"
            ],
            "image/png": "[encoded data removed]"
          },
          "metadata": {}
        }
      ]
    },
    {
      "cell_type": "markdown",
      "source": [
        "# ResNet 50 model"
      ],
      "metadata": {
        "id": "ZOzb8lSQuOmG"
      }
    },
    {
      "cell_type": "code",
      "source": [
        "base_model = ResNet50(include_top=False, pooling='avg')"
      ],
      "metadata": {
        "colab": {
          "base_uri": "https://localhost:8080/"
        },
        "id": "JdINrRWvtNEv",
        "outputId": "57125b83-1a35-4ebe-a69a-ea4516d96d9f"
      },
      "execution_count": 14,
      "outputs": [
        {
          "output_type": "stream",
          "name": "stdout",
          "text": [
            "Downloading data from https://storage.googleapis.com/tensorflow/keras-applications/resnet/resnet50_weights_tf_dim_ordering_tf_kernels_notop.h5\n",
            "94765736/94765736 [==============================] - 2s 0us/step\n"
          ]
        }
      ]
    },
    {
      "cell_type": "code",
      "source": [
        "input_shape = (224,224,3)\n",
        "num_classes = 12"
      ],
      "metadata": {
        "id": "50vRZa_fvxa_"
      },
      "execution_count": 15,
      "outputs": []
    },
    {
      "cell_type": "code",
      "source": [
        "model = Sequential()\n",
        "model.add(base_model)\n",
        "model.add(Dense(num_classes, activation='softmax'))"
      ],
      "metadata": {
        "id": "ZkLkixWAtNJH"
      },
      "execution_count": 16,
      "outputs": []
    },
    {
      "cell_type": "code",
      "source": [
        "base_model.trainable = False"
      ],
      "metadata": {
        "id": "GO0Y25jStNQm"
      },
      "execution_count": 17,
      "outputs": []
    },
    {
      "cell_type": "code",
      "source": [
        "model.compile(optimizer='adam', loss='sparse_categorical_crossentropy', metrics=['accuracy'])"
      ],
      "metadata": {
        "id": "S26NlNdStNRt"
      },
      "execution_count": 18,
      "outputs": []
    },
    {
      "cell_type": "code",
      "source": [
        "# spefying the format in which model needs to be saved\n",
        "model_name = 'Seed' + '/'\n",
        "\n",
        "if not os.path.exists(model_name):\n",
        "    os.mkdir(model_name)\n",
        " # giving the file path\n",
        "filepath = model_name + 'model-{epoch:05d}-{loss:.5f}-{val_loss:.5f}-.h5'\n",
        "# Creating the call back for saving only the best models\n",
        "lr_reduce = ReduceLROnPlateau(monitor='val_accuracy', factor=0.6, patience=5, verbose=1, mode='max', min_lr=1e-5)\n",
        "checkpoint = ModelCheckpoint(filepath, monitor='val_loss', verbose=1, save_best_only=True, save_weights_only=False, mode='auto', period=1)\n",
        "# creating the callback for early stopping\n",
        "early_stopping = EarlyStopping(monitor='val_loss', mode='min', verbose=1, patience=5)\n",
        "\n",
        "callbacks_list = [checkpoint, early_stopping, lr_reduce]"
      ],
      "metadata": {
        "colab": {
          "base_uri": "https://localhost:8080/"
        },
        "id": "gSbMwc5Xvbkj",
        "outputId": "70f5d047-dee7-4e60-841e-0855c4145f34"
      },
      "execution_count": 19,
      "outputs": [
        {
          "output_type": "stream",
          "name": "stderr",
          "text": [
            "WARNING:tensorflow:`period` argument is deprecated. Please use `save_freq` to specify the frequency in number of batches seen.\n"
          ]
        }
      ]
    },
    {
      "cell_type": "code",
      "source": [
        "epochs = 200\n",
        "batch_size = 32\n",
        "history = model.fit(train_ds, validation_data=val_ds, epochs=epochs, batch_size=batch_size, callbacks=callbacks_list)"
      ],
      "metadata": {
        "colab": {
          "base_uri": "https://localhost:8080/"
        },
        "id": "fTjAjXKRvlFI",
        "outputId": "cff356c4-e1d8-42d8-ce0b-ce7a8893b231"
      },
      "execution_count": 20,
      "outputs": [
        {
          "output_type": "stream",
          "name": "stdout",
          "text": [
            "Epoch 1/200\n",
            "113/113 [==============================] - ETA: 0s - loss: 1.2475 - accuracy: 0.6212\n",
            "Epoch 1: val_loss improved from inf to 0.68456, saving model to Seed/model-00001-1.24749-0.68456-.h5\n",
            "113/113 [==============================] - 55s 354ms/step - loss: 1.2475 - accuracy: 0.6212 - val_loss: 0.6846 - val_accuracy: 0.8225 - lr: 0.0010\n",
            "Epoch 2/200\n",
            "112/113 [============================>.] - ETA: 0s - loss: 0.5519 - accuracy: 0.8479\n",
            "Epoch 2: val_loss improved from 0.68456 to 0.49034, saving model to Seed/model-00002-0.55255-0.49034-.h5\n",
            "113/113 [==============================] - 34s 290ms/step - loss: 0.5526 - accuracy: 0.8477 - val_loss: 0.4903 - val_accuracy: 0.8616 - lr: 0.0010\n",
            "Epoch 3/200\n",
            "112/113 [============================>.] - ETA: 0s - loss: 0.4061 - accuracy: 0.8878\n",
            "Epoch 3: val_loss improved from 0.49034 to 0.40141, saving model to Seed/model-00003-0.40604-0.40141-.h5\n",
            "113/113 [==============================] - 33s 277ms/step - loss: 0.4060 - accuracy: 0.8879 - val_loss: 0.4014 - val_accuracy: 0.8873 - lr: 0.0010\n",
            "Epoch 4/200\n",
            "112/113 [============================>.] - ETA: 0s - loss: 0.3102 - accuracy: 0.9233\n",
            "Epoch 4: val_loss improved from 0.40141 to 0.38054, saving model to Seed/model-00004-0.31034-0.38054-.h5\n",
            "113/113 [==============================] - 33s 276ms/step - loss: 0.3103 - accuracy: 0.9230 - val_loss: 0.3805 - val_accuracy: 0.8828 - lr: 0.0010\n",
            "Epoch 5/200\n",
            "112/113 [============================>.] - ETA: 0s - loss: 0.2909 - accuracy: 0.9235\n",
            "Epoch 5: val_loss improved from 0.38054 to 0.34946, saving model to Seed/model-00005-0.29080-0.34946-.h5\n",
            "113/113 [==============================] - 34s 276ms/step - loss: 0.2908 - accuracy: 0.9236 - val_loss: 0.3495 - val_accuracy: 0.8895 - lr: 0.0010\n",
            "Epoch 6/200\n",
            "112/113 [============================>.] - ETA: 0s - loss: 0.2276 - accuracy: 0.9450\n",
            "Epoch 6: val_loss improved from 0.34946 to 0.34147, saving model to Seed/model-00006-0.22783-0.34147-.h5\n",
            "113/113 [==============================] - 34s 287ms/step - loss: 0.2278 - accuracy: 0.9450 - val_loss: 0.3415 - val_accuracy: 0.8996 - lr: 0.0010\n",
            "Epoch 7/200\n",
            "112/113 [============================>.] - ETA: 0s - loss: 0.2143 - accuracy: 0.9436\n",
            "Epoch 7: val_loss improved from 0.34147 to 0.33165, saving model to Seed/model-00007-0.21428-0.33165-.h5\n",
            "113/113 [==============================] - 36s 310ms/step - loss: 0.2143 - accuracy: 0.9437 - val_loss: 0.3316 - val_accuracy: 0.8962 - lr: 0.0010\n",
            "Epoch 8/200\n",
            "112/113 [============================>.] - ETA: 0s - loss: 0.1824 - accuracy: 0.9537\n",
            "Epoch 8: val_loss improved from 0.33165 to 0.31125, saving model to Seed/model-00008-0.18234-0.31125-.h5\n",
            "113/113 [==============================] - 36s 309ms/step - loss: 0.1823 - accuracy: 0.9537 - val_loss: 0.3112 - val_accuracy: 0.9085 - lr: 0.0010\n",
            "Epoch 9/200\n",
            "112/113 [============================>.] - ETA: 0s - loss: 0.1634 - accuracy: 0.9637\n",
            "Epoch 9: val_loss improved from 0.31125 to 0.30409, saving model to Seed/model-00009-0.16331-0.30409-.h5\n",
            "113/113 [==============================] - 36s 307ms/step - loss: 0.1633 - accuracy: 0.9637 - val_loss: 0.3041 - val_accuracy: 0.9029 - lr: 0.0010\n",
            "Epoch 10/200\n",
            "112/113 [============================>.] - ETA: 0s - loss: 0.1489 - accuracy: 0.9662\n",
            "Epoch 10: val_loss improved from 0.30409 to 0.30089, saving model to Seed/model-00010-0.14885-0.30089-.h5\n",
            "113/113 [==============================] - 32s 271ms/step - loss: 0.1488 - accuracy: 0.9662 - val_loss: 0.3009 - val_accuracy: 0.9129 - lr: 0.0010\n",
            "Epoch 11/200\n",
            "112/113 [============================>.] - ETA: 0s - loss: 0.1355 - accuracy: 0.9688\n",
            "Epoch 11: val_loss improved from 0.30089 to 0.29858, saving model to Seed/model-00011-0.13547-0.29858-.h5\n",
            "113/113 [==============================] - 32s 269ms/step - loss: 0.1355 - accuracy: 0.9688 - val_loss: 0.2986 - val_accuracy: 0.9163 - lr: 0.0010\n",
            "Epoch 12/200\n",
            "112/113 [============================>.] - ETA: 0s - loss: 0.1262 - accuracy: 0.9735\n",
            "Epoch 12: val_loss improved from 0.29858 to 0.29850, saving model to Seed/model-00012-0.12613-0.29850-.h5\n",
            "113/113 [==============================] - 32s 271ms/step - loss: 0.1261 - accuracy: 0.9735 - val_loss: 0.2985 - val_accuracy: 0.9163 - lr: 0.0010\n",
            "Epoch 13/200\n",
            "112/113 [============================>.] - ETA: 0s - loss: 0.1174 - accuracy: 0.9768\n",
            "Epoch 13: val_loss improved from 0.29850 to 0.29267, saving model to Seed/model-00013-0.11738-0.29267-.h5\n",
            "113/113 [==============================] - 32s 273ms/step - loss: 0.1174 - accuracy: 0.9768 - val_loss: 0.2927 - val_accuracy: 0.9074 - lr: 0.0010\n",
            "Epoch 14/200\n",
            "112/113 [============================>.] - ETA: 0s - loss: 0.1064 - accuracy: 0.9794\n",
            "Epoch 14: val_loss did not improve from 0.29267\n",
            "113/113 [==============================] - 36s 306ms/step - loss: 0.1064 - accuracy: 0.9794 - val_loss: 0.2952 - val_accuracy: 0.9174 - lr: 0.0010\n",
            "Epoch 15/200\n",
            "112/113 [============================>.] - ETA: 0s - loss: 0.0974 - accuracy: 0.9805\n",
            "Epoch 15: val_loss did not improve from 0.29267\n",
            "113/113 [==============================] - 32s 268ms/step - loss: 0.0974 - accuracy: 0.9805 - val_loss: 0.3023 - val_accuracy: 0.9107 - lr: 0.0010\n",
            "Epoch 16/200\n",
            "112/113 [============================>.] - ETA: 0s - loss: 0.0951 - accuracy: 0.9802\n",
            "Epoch 16: val_loss did not improve from 0.29267\n",
            "113/113 [==============================] - 32s 272ms/step - loss: 0.0951 - accuracy: 0.9802 - val_loss: 0.3014 - val_accuracy: 0.9040 - lr: 0.0010\n",
            "Epoch 17/200\n",
            "112/113 [============================>.] - ETA: 0s - loss: 0.0855 - accuracy: 0.9833\n",
            "Epoch 17: val_loss improved from 0.29267 to 0.28230, saving model to Seed/model-00017-0.08554-0.28230-.h5\n",
            "113/113 [==============================] - 37s 318ms/step - loss: 0.0855 - accuracy: 0.9833 - val_loss: 0.2823 - val_accuracy: 0.9107 - lr: 0.0010\n",
            "Epoch 18/200\n",
            "112/113 [============================>.] - ETA: 0s - loss: 0.0801 - accuracy: 0.9844\n",
            "Epoch 18: val_loss did not improve from 0.28230\n",
            "113/113 [==============================] - 32s 274ms/step - loss: 0.0801 - accuracy: 0.9844 - val_loss: 0.2922 - val_accuracy: 0.9107 - lr: 0.0010\n",
            "Epoch 19/200\n",
            "112/113 [============================>.] - ETA: 0s - loss: 0.0785 - accuracy: 0.9838\n",
            "Epoch 19: val_loss did not improve from 0.28230\n",
            "\n",
            "Epoch 19: ReduceLROnPlateau reducing learning rate to 0.0006000000284984708.\n",
            "113/113 [==============================] - 36s 306ms/step - loss: 0.0785 - accuracy: 0.9838 - val_loss: 0.3006 - val_accuracy: 0.9141 - lr: 0.0010\n",
            "Epoch 20/200\n",
            "112/113 [============================>.] - ETA: 0s - loss: 0.0674 - accuracy: 0.9888\n",
            "Epoch 20: val_loss did not improve from 0.28230\n",
            "113/113 [==============================] - 36s 304ms/step - loss: 0.0674 - accuracy: 0.9888 - val_loss: 0.2845 - val_accuracy: 0.9118 - lr: 6.0000e-04\n",
            "Epoch 21/200\n",
            "112/113 [============================>.] - ETA: 0s - loss: 0.0631 - accuracy: 0.9897\n",
            "Epoch 21: val_loss did not improve from 0.28230\n",
            "113/113 [==============================] - 31s 264ms/step - loss: 0.0631 - accuracy: 0.9897 - val_loss: 0.2883 - val_accuracy: 0.9152 - lr: 6.0000e-04\n",
            "Epoch 22/200\n",
            "112/113 [============================>.] - ETA: 0s - loss: 0.0621 - accuracy: 0.9897\n",
            "Epoch 22: val_loss did not improve from 0.28230\n",
            "113/113 [==============================] - 32s 267ms/step - loss: 0.0620 - accuracy: 0.9897 - val_loss: 0.2855 - val_accuracy: 0.9152 - lr: 6.0000e-04\n",
            "Epoch 22: early stopping\n"
          ]
        }
      ]
    },
    {
      "cell_type": "code",
      "source": [
        "### visualizing the model results.\n",
        "acc = history.history['accuracy']\n",
        "val_acc = history.history['val_accuracy']\n",
        "\n",
        "loss = history.history['loss']\n",
        "val_loss = history.history['val_loss']\n",
        "\n",
        "epochs_range = range(22)\n",
        "\n",
        "plt.figure(figsize=(8, 8))\n",
        "plt.subplot(1, 2, 1)\n",
        "plt.plot(epochs_range, acc, label='Training Accuracy')\n",
        "plt.plot(epochs_range, val_acc, label='Validation Accuracy')\n",
        "plt.legend(loc='lower right')\n",
        "plt.title('Training and Validation Accuracy')\n",
        "\n",
        "plt.subplot(1, 2, 2)\n",
        "plt.plot(epochs_range, loss, label='Training Loss')\n",
        "plt.plot(epochs_range, val_loss, label='Validation Loss')\n",
        "plt.legend(loc='upper right')\n",
        "plt.title('Training and Validation Loss')\n",
        "plt.show()"
      ],
      "metadata": {
        "colab": {
          "base_uri": "https://localhost:8080/",
          "height": 699
        },
        "id": "WWSk2jHAtNUr",
        "outputId": "bc2ccef5-1c1b-4529-a690-3c7091e3659b"
      },
      "execution_count": 22,
      "outputs": [
        {
          "output_type": "display_data",
          "data": {
            "text/plain": [
              "<Figure size 800x800 with 2 Axes>"
            ],
            "image/png": "[encoded data removed]"
          },
          "metadata": {}
        }
      ]
    },
    {
      "cell_type": "markdown",
      "source": [
        "**Observations**\n",
        "1. Validation loss decreased to 0.2823.\n",
        "\n",
        "2. Training accuracy is 98.33% and validation accuracy is 91%. Model is bit overfitted.\n",
        "\n",
        "3. Learning became faster as pretrained weigts of imagenet dataset are used.\n",
        "\n"
      ],
      "metadata": {
        "id": "BDQNEvYwfAnO"
      }
    },
    {
      "cell_type": "markdown",
      "source": [
        "# Image augmentation\n",
        "\n",
        "Using augmenter adding 500 synthetically generated images in each class.\n"
      ],
      "metadata": {
        "id": "e31XhT-87Neg"
      }
    },
    {
      "cell_type": "code",
      "source": [
        "### defining the path for training and test images\n",
        "train_path = \"/content/dataset/train/\"\n",
        "test_path = \"/content/dataset/test/\""
      ],
      "metadata": {
        "id": "V8Vzb3oItNd2"
      },
      "execution_count": 23,
      "outputs": []
    },
    {
      "cell_type": "code",
      "source": [
        "### distibution of classes for each category of data\n",
        "### It can be seen that data has imbalances in the class distribution\n",
        "for i in labels:\n",
        "    directory =train_path + i + '/'\n",
        "    class_directory = pathlib.Path(directory)\n",
        "    length=len(list(class_directory.glob('*.png')))\n",
        "    print(f'{i} has {length} samples.')"
      ],
      "metadata": {
        "colab": {
          "base_uri": "https://localhost:8080/"
        },
        "id": "GThenFjbtNnn",
        "outputId": "facaa0e2-471d-405d-d9be-c131ba4adcaa"
      },
      "execution_count": 24,
      "outputs": [
        {
          "output_type": "stream",
          "name": "stdout",
          "text": [
            "Black-grass has 247 samples.\n",
            "Charlock has 361 samples.\n",
            "Cleavers has 273 samples.\n",
            "Common Chickweed has 570 samples.\n",
            "Common wheat has 202 samples.\n",
            "Fat Hen has 432 samples.\n",
            "Loose Silky-bent has 628 samples.\n",
            "Maize has 205 samples.\n",
            "Scentless Mayweed has 514 samples.\n",
            "Shepherd’s Purse has 219 samples.\n",
            "Small-flowered Cranesbill has 460 samples.\n",
            "Sugar beet has 370 samples.\n"
          ]
        }
      ]
    },
    {
      "cell_type": "code",
      "source": [
        "# You can use a python package known as Augmentor (https://augmentor.readthedocs.io/en/master/) to add more samples across all classes\n",
        "# so that none of the classes have very few samples.\n",
        "!pip install Augmentor"
      ],
      "metadata": {
        "colab": {
          "base_uri": "https://localhost:8080/"
        },
        "id": "wzPye7SbtNoh",
        "outputId": "1e009650-7c8d-49be-d1eb-ea1edcfc97e0"
      },
      "execution_count": 25,
      "outputs": [
        {
          "output_type": "stream",
          "name": "stdout",
          "text": [
            "Collecting Augmentor\n",
            "  Downloading Augmentor-0.2.12-py2.py3-none-any.whl (38 kB)\n",
            "Requirement already satisfied: Pillow>=5.2.0 in /usr/local/lib/python3.10/dist-packages (from Augmentor) (9.4.0)\n",
            "Requirement already satisfied: tqdm>=4.9.0 in /usr/local/lib/python3.10/dist-packages (from Augmentor) (4.65.0)\n",
            "Requirement already satisfied: numpy>=1.11.0 in /usr/local/lib/python3.10/dist-packages (from Augmentor) (1.22.4)\n",
            "Installing collected packages: Augmentor\n",
            "Successfully installed Augmentor-0.2.12\n"
          ]
        }
      ]
    },
    {
      "cell_type": "code",
      "source": [
        "path_to_training_dataset=train_path\n",
        "\n",
        "import Augmentor\n",
        "for i in labels:\n",
        "    p = Augmentor.Pipeline(path_to_training_dataset + i)\n",
        "    p.rotate(probability=0.7, max_left_rotation=10, max_right_rotation=10)\n",
        "    p.sample(500) ## We are adding 500 samples per class to make sure that none of the classes are sparse."
      ],
      "metadata": {
        "colab": {
          "base_uri": "https://localhost:8080/"
        },
        "id": "jJ6mXGv_tNqI",
        "outputId": "49a0b89f-889e-4860-f388-213abbb1beed"
      },
      "execution_count": 26,
      "outputs": [
        {
          "output_type": "stream",
          "name": "stdout",
          "text": [
            "Initialised with 247 image(s) found.\n",
            "Output directory set to /content/dataset/train/Black-grass/output."
          ]
        },
        {
          "output_type": "stream",
          "name": "stderr",
          "text": [
            "Processing <PIL.Image.Image image mode=RGB size=352x352 at 0x78102C107970>: 100%|██████████| 500/500 [02:51<00:00,  2.92 Samples/s]\n"
          ]
        },
        {
          "output_type": "stream",
          "name": "stdout",
          "text": [
            "Initialised with 361 image(s) found.\n",
            "Output directory set to /content/dataset/train/Charlock/output."
          ]
        },
        {
          "output_type": "stream",
          "name": "stderr",
          "text": [
            "Processing <PIL.Image.Image image mode=RGB size=910x910 at 0x781026F378E0>: 100%|██████████| 500/500 [00:59<00:00,  8.46 Samples/s]\n"
          ]
        },
        {
          "output_type": "stream",
          "name": "stdout",
          "text": [
            "Initialised with 273 image(s) found.\n",
            "Output directory set to /content/dataset/train/Cleavers/output."
          ]
        },
        {
          "output_type": "stream",
          "name": "stderr",
          "text": [
            "Processing <PIL.Image.Image image mode=RGB size=211x211 at 0x78102C05B730>: 100%|██████████| 500/500 [00:28<00:00, 17.74 Samples/s]\n"
          ]
        },
        {
          "output_type": "stream",
          "name": "stdout",
          "text": [
            "Initialised with 570 image(s) found.\n",
            "Output directory set to /content/dataset/train/Common Chickweed/output."
          ]
        },
        {
          "output_type": "stream",
          "name": "stderr",
          "text": [
            "Processing <PIL.PngImagePlugin.PngImageFile image mode=RGB size=119x119 at 0x781026F5BEB0>: 100%|██████████| 500/500 [00:19<00:00, 26.30 Samples/s]\n"
          ]
        },
        {
          "output_type": "stream",
          "name": "stdout",
          "text": [
            "Initialised with 202 image(s) found.\n",
            "Output directory set to /content/dataset/train/Common wheat/output."
          ]
        },
        {
          "output_type": "stream",
          "name": "stderr",
          "text": [
            "Processing <PIL.PngImagePlugin.PngImageFile image mode=RGB size=745x745 at 0x781026F35A80>: 100%|██████████| 500/500 [01:05<00:00,  7.60 Samples/s]\n"
          ]
        },
        {
          "output_type": "stream",
          "name": "stdout",
          "text": [
            "Initialised with 432 image(s) found.\n",
            "Output directory set to /content/dataset/train/Fat Hen/output."
          ]
        },
        {
          "output_type": "stream",
          "name": "stderr",
          "text": [
            "Processing <PIL.Image.Image image mode=RGB size=414x414 at 0x78102C0779D0>: 100%|██████████| 500/500 [00:38<00:00, 13.11 Samples/s]\n"
          ]
        },
        {
          "output_type": "stream",
          "name": "stdout",
          "text": [
            "Initialised with 628 image(s) found.\n",
            "Output directory set to /content/dataset/train/Loose Silky-bent/output."
          ]
        },
        {
          "output_type": "stream",
          "name": "stderr",
          "text": [
            "Processing <PIL.Image.Image image mode=RGB size=111x111 at 0x7810362F0E80>: 100%|██████████| 500/500 [01:17<00:00,  6.46 Samples/s]\n"
          ]
        },
        {
          "output_type": "stream",
          "name": "stdout",
          "text": [
            "Initialised with 205 image(s) found.\n",
            "Output directory set to /content/dataset/train/Maize/output."
          ]
        },
        {
          "output_type": "stream",
          "name": "stderr",
          "text": [
            "Processing <PIL.PngImagePlugin.PngImageFile image mode=RGB size=751x751 at 0x7810361FBC40>: 100%|██████████| 500/500 [01:35<00:00,  5.25 Samples/s]\n"
          ]
        },
        {
          "output_type": "stream",
          "name": "stdout",
          "text": [
            "Initialised with 514 image(s) found.\n",
            "Output directory set to /content/dataset/train/Scentless Mayweed/output."
          ]
        },
        {
          "output_type": "stream",
          "name": "stderr",
          "text": [
            "Processing <PIL.Image.Image image mode=RGB size=587x587 at 0x781075B75990>: 100%|██████████| 500/500 [00:30<00:00, 16.66 Samples/s]\n"
          ]
        },
        {
          "output_type": "stream",
          "name": "stdout",
          "text": [
            "Initialised with 219 image(s) found.\n",
            "Output directory set to /content/dataset/train/Shepherd’s Purse/output."
          ]
        },
        {
          "output_type": "stream",
          "name": "stderr",
          "text": [
            "Processing <PIL.Image.Image image mode=RGB size=139x139 at 0x781075BB5DB0>: 100%|██████████| 500/500 [00:32<00:00, 15.61 Samples/s]\n"
          ]
        },
        {
          "output_type": "stream",
          "name": "stdout",
          "text": [
            "Initialised with 460 image(s) found.\n",
            "Output directory set to /content/dataset/train/Small-flowered Cranesbill/output."
          ]
        },
        {
          "output_type": "stream",
          "name": "stderr",
          "text": [
            "Processing <PIL.Image.Image image mode=RGB size=552x552 at 0x78102C0D7940>: 100%|██████████| 500/500 [00:37<00:00, 13.17 Samples/s]\n"
          ]
        },
        {
          "output_type": "stream",
          "name": "stdout",
          "text": [
            "Initialised with 370 image(s) found.\n",
            "Output directory set to /content/dataset/train/Sugar beet/output."
          ]
        },
        {
          "output_type": "stream",
          "name": "stderr",
          "text": [
            "Processing <PIL.Image.Image image mode=RGB size=456x456 at 0x78102C05BAF0>: 100%|██████████| 500/500 [01:44<00:00,  4.80 Samples/s]\n"
          ]
        }
      ]
    },
    {
      "cell_type": "code",
      "source": [
        "### Distribution of classes after augmentation\n",
        "for i in labels:\n",
        "    directory =train_path+i+'/'\n",
        "    directory_out =train_path+i+'/output/'\n",
        "    class_directory = pathlib.Path(directory)\n",
        "    class_directory_out = pathlib.Path(directory_out)\n",
        "    length=len(list(class_directory.glob('*.png')))\n",
        "    length_out=len(list(class_directory_out.glob('*.png')))\n",
        "    length_tot=length+length_out\n",
        "    print(f'{i} has {length_tot} samples.')"
      ],
      "metadata": {
        "colab": {
          "base_uri": "https://localhost:8080/"
        },
        "id": "ZR9SzD5XtNtZ",
        "outputId": "64777600-7e56-4024-981d-bb79649ade4d"
      },
      "execution_count": 27,
      "outputs": [
        {
          "output_type": "stream",
          "name": "stdout",
          "text": [
            "Black-grass has 747 samples.\n",
            "Charlock has 861 samples.\n",
            "Cleavers has 773 samples.\n",
            "Common Chickweed has 1070 samples.\n",
            "Common wheat has 702 samples.\n",
            "Fat Hen has 932 samples.\n",
            "Loose Silky-bent has 1128 samples.\n",
            "Maize has 705 samples.\n",
            "Scentless Mayweed has 1014 samples.\n",
            "Shepherd’s Purse has 719 samples.\n",
            "Small-flowered Cranesbill has 960 samples.\n",
            "Sugar beet has 870 samples.\n"
          ]
        }
      ]
    },
    {
      "cell_type": "code",
      "source": [
        "batch_size = 32\n",
        "img_height = 224\n",
        "img_width = 224"
      ],
      "metadata": {
        "id": "OnOgMZKMtNv5"
      },
      "execution_count": 28,
      "outputs": []
    },
    {
      "cell_type": "code",
      "source": [
        "data_dir_train=train_path\n",
        "train_ds = tf.keras.preprocessing.image_dataset_from_directory(\n",
        "  data_dir_train,\n",
        "  seed=123, label_mode='categorical',\n",
        "  validation_split = 0.2,\n",
        "  subset = 'training',\n",
        "  image_size=(img_height, img_width),\n",
        "  batch_size=batch_size)"
      ],
      "metadata": {
        "colab": {
          "base_uri": "https://localhost:8080/"
        },
        "id": "bTcHppsRtNzI",
        "outputId": "04325e8b-cbd7-40a5-83a8-2e2340dbd413"
      },
      "execution_count": 29,
      "outputs": [
        {
          "output_type": "stream",
          "name": "stdout",
          "text": [
            "Found 10481 files belonging to 12 classes.\n",
            "Using 8385 files for training.\n"
          ]
        }
      ]
    },
    {
      "cell_type": "code",
      "source": [
        "val_ds = tf.keras.preprocessing.image_dataset_from_directory(\n",
        "  data_dir_train,\n",
        "  seed=123, label_mode='categorical',\n",
        "  validation_split = 0.2,\n",
        "  subset = 'validation',\n",
        "  image_size=(img_height, img_width),\n",
        "  batch_size=batch_size)"
      ],
      "metadata": {
        "colab": {
          "base_uri": "https://localhost:8080/"
        },
        "id": "yXFJvqtFtN1b",
        "outputId": "c67522e0-817f-4c6c-ed6c-27a68e1b63c6"
      },
      "execution_count": 30,
      "outputs": [
        {
          "output_type": "stream",
          "name": "stdout",
          "text": [
            "Found 10481 files belonging to 12 classes.\n",
            "Using 2096 files for validation.\n"
          ]
        }
      ]
    },
    {
      "cell_type": "markdown",
      "source": [
        "**Model**"
      ],
      "metadata": {
        "id": "ZCKnaKZU713h"
      }
    },
    {
      "cell_type": "code",
      "source": [
        "base_model = ResNet50(include_top=False, pooling='avg')"
      ],
      "metadata": {
        "id": "E7TqK2yttOV0"
      },
      "execution_count": 44,
      "outputs": []
    },
    {
      "cell_type": "code",
      "source": [
        "input_shape = (224,224,3)\n",
        "num_classes = 12"
      ],
      "metadata": {
        "id": "yiRCTkh-tPYN"
      },
      "execution_count": 45,
      "outputs": []
    },
    {
      "cell_type": "code",
      "source": [
        "model = Sequential()\n",
        "model.add(base_model)\n",
        "model.add(Dense(num_classes, activation='softmax'))"
      ],
      "metadata": {
        "id": "1Gubn7rYtPbe"
      },
      "execution_count": 46,
      "outputs": []
    },
    {
      "cell_type": "code",
      "source": [
        "base_model.trainable = False"
      ],
      "metadata": {
        "id": "wMTUlx0ytPeq"
      },
      "execution_count": 47,
      "outputs": []
    },
    {
      "cell_type": "code",
      "source": [
        "model.compile(optimizer='adam', loss='categorical_crossentropy', metrics=['accuracy'])"
      ],
      "metadata": {
        "id": "zN9zC9hbtRAm"
      },
      "execution_count": 48,
      "outputs": []
    },
    {
      "cell_type": "code",
      "source": [
        "# spefying the format in which model needs to be saved\n",
        "model_name = 'Seed_aug' + '/'\n",
        "\n",
        "if not os.path.exists(model_name):\n",
        "    os.mkdir(model_name)\n",
        " # giving the file path\n",
        "filepath = model_name + 'model-{epoch:05d}-{loss:.5f}-{val_loss:.5f}-.h5'\n",
        "# Creating the call back for saving only the best models\n",
        "lr_reduce = ReduceLROnPlateau(monitor='val_accuracy', factor=0.6, patience=10, verbose=1, mode='max', min_lr=1e-5)\n",
        "checkpoint = ModelCheckpoint(filepath, monitor='val_loss', verbose=1, save_best_only=True, save_weights_only=False, mode='auto', period=1)\n",
        "# creating the callback for early stopping\n",
        "early_stopping = EarlyStopping(monitor='val_loss', mode='min', verbose=1, patience=5)\n",
        "\n",
        "callbacks_list = [checkpoint, early_stopping, lr_reduce]"
      ],
      "metadata": {
        "colab": {
          "base_uri": "https://localhost:8080/"
        },
        "id": "WJHSX3YptREZ",
        "outputId": "b395d0ac-354c-4efe-9098-31283376985a"
      },
      "execution_count": 49,
      "outputs": [
        {
          "output_type": "stream",
          "name": "stderr",
          "text": [
            "WARNING:tensorflow:`period` argument is deprecated. Please use `save_freq` to specify the frequency in number of batches seen.\n"
          ]
        }
      ]
    },
    {
      "cell_type": "code",
      "source": [
        "epochs = 200\n",
        "batch_size = 32\n",
        "history = model.fit(train_ds, validation_data=val_ds, epochs=epochs, batch_size=batch_size, callbacks=callbacks_list)"
      ],
      "metadata": {
        "colab": {
          "base_uri": "https://localhost:8080/"
        },
        "id": "w-hkf-3ltRHK",
        "outputId": "054c188e-0c48-4560-9192-43dc6ad29025"
      },
      "execution_count": 50,
      "outputs": [
        {
          "output_type": "stream",
          "name": "stdout",
          "text": [
            "Epoch 1/200\n",
            "262/263 [============================>.] - ETA: 0s - loss: 0.8661 - accuracy: 0.7351\n",
            "Epoch 1: val_loss improved from inf to 0.46271, saving model to Seed_aug/model-00001-0.86618-0.46271-.h5\n",
            "263/263 [==============================] - 100s 357ms/step - loss: 0.8662 - accuracy: 0.7350 - val_loss: 0.4627 - val_accuracy: 0.8721 - lr: 0.0010\n",
            "Epoch 2/200\n",
            "262/263 [============================>.] - ETA: 0s - loss: 0.3555 - accuracy: 0.8990\n",
            "Epoch 2: val_loss improved from 0.46271 to 0.35440, saving model to Seed_aug/model-00002-0.35544-0.35440-.h5\n",
            "263/263 [==============================] - 92s 342ms/step - loss: 0.3554 - accuracy: 0.8990 - val_loss: 0.3544 - val_accuracy: 0.8917 - lr: 0.0010\n",
            "Epoch 3/200\n",
            "262/263 [============================>.] - ETA: 0s - loss: 0.2510 - accuracy: 0.9300\n",
            "Epoch 3: val_loss improved from 0.35440 to 0.27689, saving model to Seed_aug/model-00003-0.25100-0.27689-.h5\n",
            "263/263 [==============================] - 89s 332ms/step - loss: 0.2510 - accuracy: 0.9300 - val_loss: 0.2769 - val_accuracy: 0.9132 - lr: 0.0010\n",
            "Epoch 4/200\n",
            "262/263 [============================>.] - ETA: 0s - loss: 0.1958 - accuracy: 0.9478\n",
            "Epoch 4: val_loss improved from 0.27689 to 0.26258, saving model to Seed_aug/model-00004-0.19588-0.26258-.h5\n",
            "263/263 [==============================] - 89s 333ms/step - loss: 0.1959 - accuracy: 0.9478 - val_loss: 0.2626 - val_accuracy: 0.9079 - lr: 0.0010\n",
            "Epoch 5/200\n",
            "262/263 [============================>.] - ETA: 0s - loss: 0.1701 - accuracy: 0.9519\n",
            "Epoch 5: val_loss improved from 0.26258 to 0.21844, saving model to Seed_aug/model-00005-0.17014-0.21844-.h5\n",
            "263/263 [==============================] - 92s 342ms/step - loss: 0.1701 - accuracy: 0.9519 - val_loss: 0.2184 - val_accuracy: 0.9280 - lr: 0.0010\n",
            "Epoch 6/200\n",
            "262/263 [============================>.] - ETA: 0s - loss: 0.1407 - accuracy: 0.9603\n",
            "Epoch 6: val_loss improved from 0.21844 to 0.19064, saving model to Seed_aug/model-00006-0.14072-0.19064-.h5\n",
            "263/263 [==============================] - 89s 333ms/step - loss: 0.1407 - accuracy: 0.9603 - val_loss: 0.1906 - val_accuracy: 0.9365 - lr: 0.0010\n",
            "Epoch 7/200\n",
            "262/263 [============================>.] - ETA: 0s - loss: 0.1196 - accuracy: 0.9697\n",
            "Epoch 7: val_loss improved from 0.19064 to 0.17973, saving model to Seed_aug/model-00007-0.11958-0.17973-.h5\n",
            "263/263 [==============================] - 92s 343ms/step - loss: 0.1196 - accuracy: 0.9697 - val_loss: 0.1797 - val_accuracy: 0.9385 - lr: 0.0010\n",
            "Epoch 8/200\n",
            "262/263 [============================>.] - ETA: 0s - loss: 0.1062 - accuracy: 0.9722\n",
            "Epoch 8: val_loss improved from 0.17973 to 0.16625, saving model to Seed_aug/model-00008-0.10622-0.16625-.h5\n",
            "263/263 [==============================] - 88s 328ms/step - loss: 0.1062 - accuracy: 0.9722 - val_loss: 0.1663 - val_accuracy: 0.9432 - lr: 0.0010\n",
            "Epoch 9/200\n",
            "262/263 [============================>.] - ETA: 0s - loss: 0.0956 - accuracy: 0.9764\n",
            "Epoch 9: val_loss did not improve from 0.16625\n",
            "263/263 [==============================] - 88s 327ms/step - loss: 0.0956 - accuracy: 0.9764 - val_loss: 0.1672 - val_accuracy: 0.9418 - lr: 0.0010\n",
            "Epoch 10/200\n",
            "262/263 [============================>.] - ETA: 0s - loss: 0.0817 - accuracy: 0.9810\n",
            "Epoch 10: val_loss improved from 0.16625 to 0.15523, saving model to Seed_aug/model-00010-0.08166-0.15523-.h5\n",
            "263/263 [==============================] - 88s 330ms/step - loss: 0.0817 - accuracy: 0.9810 - val_loss: 0.1552 - val_accuracy: 0.9451 - lr: 0.0010\n",
            "Epoch 11/200\n",
            "262/263 [============================>.] - ETA: 0s - loss: 0.0753 - accuracy: 0.9828\n",
            "Epoch 11: val_loss improved from 0.15523 to 0.14686, saving model to Seed_aug/model-00011-0.07534-0.14686-.h5\n",
            "263/263 [==============================] - 93s 347ms/step - loss: 0.0753 - accuracy: 0.9828 - val_loss: 0.1469 - val_accuracy: 0.9523 - lr: 0.0010\n",
            "Epoch 12/200\n",
            "262/263 [============================>.] - ETA: 0s - loss: 0.0690 - accuracy: 0.9826\n",
            "Epoch 12: val_loss improved from 0.14686 to 0.14047, saving model to Seed_aug/model-00012-0.06897-0.14047-.h5\n",
            "263/263 [==============================] - 128s 483ms/step - loss: 0.0690 - accuracy: 0.9826 - val_loss: 0.1405 - val_accuracy: 0.9513 - lr: 0.0010\n",
            "Epoch 13/200\n",
            "262/263 [============================>.] - ETA: 0s - loss: 0.0602 - accuracy: 0.9885\n",
            "Epoch 13: val_loss improved from 0.14047 to 0.13825, saving model to Seed_aug/model-00013-0.06024-0.13825-.h5\n",
            "263/263 [==============================] - 91s 339ms/step - loss: 0.0602 - accuracy: 0.9886 - val_loss: 0.1382 - val_accuracy: 0.9542 - lr: 0.0010\n",
            "Epoch 14/200\n",
            "262/263 [============================>.] - ETA: 0s - loss: 0.0578 - accuracy: 0.9868\n",
            "Epoch 14: val_loss improved from 0.13825 to 0.13347, saving model to Seed_aug/model-00014-0.05778-0.13347-.h5\n",
            "263/263 [==============================] - 87s 326ms/step - loss: 0.0578 - accuracy: 0.9868 - val_loss: 0.1335 - val_accuracy: 0.9556 - lr: 0.0010\n",
            "Epoch 15/200\n",
            "262/263 [============================>.] - ETA: 0s - loss: 0.0506 - accuracy: 0.9907\n",
            "Epoch 15: val_loss improved from 0.13347 to 0.12321, saving model to Seed_aug/model-00015-0.05065-0.12321-.h5\n",
            "263/263 [==============================] - 88s 328ms/step - loss: 0.0506 - accuracy: 0.9907 - val_loss: 0.1232 - val_accuracy: 0.9599 - lr: 0.0010\n",
            "Epoch 16/200\n",
            "262/263 [============================>.] - ETA: 0s - loss: 0.0481 - accuracy: 0.9903\n",
            "Epoch 16: val_loss improved from 0.12321 to 0.12184, saving model to Seed_aug/model-00016-0.04807-0.12184-.h5\n",
            "263/263 [==============================] - 88s 327ms/step - loss: 0.0481 - accuracy: 0.9903 - val_loss: 0.1218 - val_accuracy: 0.9585 - lr: 0.0010\n",
            "Epoch 17/200\n",
            "262/263 [============================>.] - ETA: 0s - loss: 0.0420 - accuracy: 0.9924\n",
            "Epoch 17: val_loss did not improve from 0.12184\n",
            "263/263 [==============================] - 88s 326ms/step - loss: 0.0420 - accuracy: 0.9924 - val_loss: 0.1322 - val_accuracy: 0.9518 - lr: 0.0010\n",
            "Epoch 18/200\n",
            "262/263 [============================>.] - ETA: 0s - loss: 0.0382 - accuracy: 0.9936\n",
            "Epoch 18: val_loss improved from 0.12184 to 0.12171, saving model to Seed_aug/model-00018-0.03819-0.12171-.h5\n",
            "263/263 [==============================] - 88s 328ms/step - loss: 0.0382 - accuracy: 0.9936 - val_loss: 0.1217 - val_accuracy: 0.9571 - lr: 0.0010\n",
            "Epoch 19/200\n",
            "262/263 [============================>.] - ETA: 0s - loss: 0.0349 - accuracy: 0.9944\n",
            "Epoch 19: val_loss improved from 0.12171 to 0.11318, saving model to Seed_aug/model-00019-0.03490-0.11318-.h5\n",
            "263/263 [==============================] - 89s 332ms/step - loss: 0.0349 - accuracy: 0.9944 - val_loss: 0.1132 - val_accuracy: 0.9599 - lr: 0.0010\n",
            "Epoch 20/200\n",
            "262/263 [============================>.] - ETA: 0s - loss: 0.0345 - accuracy: 0.9943\n",
            "Epoch 20: val_loss did not improve from 0.11318\n",
            "263/263 [==============================] - 90s 333ms/step - loss: 0.0345 - accuracy: 0.9943 - val_loss: 0.1160 - val_accuracy: 0.9642 - lr: 0.0010\n",
            "Epoch 21/200\n",
            "262/263 [============================>.] - ETA: 0s - loss: 0.0300 - accuracy: 0.9959\n",
            "Epoch 21: val_loss improved from 0.11318 to 0.11093, saving model to Seed_aug/model-00021-0.02996-0.11093-.h5\n",
            "263/263 [==============================] - 90s 335ms/step - loss: 0.0300 - accuracy: 0.9959 - val_loss: 0.1109 - val_accuracy: 0.9604 - lr: 0.0010\n",
            "Epoch 22/200\n",
            "262/263 [============================>.] - ETA: 0s - loss: 0.0293 - accuracy: 0.9950\n",
            "Epoch 22: val_loss did not improve from 0.11093\n",
            "263/263 [==============================] - 89s 331ms/step - loss: 0.0293 - accuracy: 0.9950 - val_loss: 0.1188 - val_accuracy: 0.9585 - lr: 0.0010\n",
            "Epoch 23/200\n",
            "262/263 [============================>.] - ETA: 0s - loss: 0.0270 - accuracy: 0.9955\n",
            "Epoch 23: val_loss improved from 0.11093 to 0.10890, saving model to Seed_aug/model-00023-0.02704-0.10890-.h5\n",
            "263/263 [==============================] - 92s 345ms/step - loss: 0.0270 - accuracy: 0.9955 - val_loss: 0.1089 - val_accuracy: 0.9623 - lr: 0.0010\n",
            "Epoch 24/200\n",
            "262/263 [============================>.] - ETA: 0s - loss: 0.0239 - accuracy: 0.9964\n",
            "Epoch 24: val_loss did not improve from 0.10890\n",
            "263/263 [==============================] - 88s 328ms/step - loss: 0.0239 - accuracy: 0.9964 - val_loss: 0.1116 - val_accuracy: 0.9628 - lr: 0.0010\n",
            "Epoch 25/200\n",
            "262/263 [============================>.] - ETA: 0s - loss: 0.0235 - accuracy: 0.9964\n",
            "Epoch 25: val_loss improved from 0.10890 to 0.10109, saving model to Seed_aug/model-00025-0.02353-0.10109-.h5\n",
            "263/263 [==============================] - 88s 330ms/step - loss: 0.0235 - accuracy: 0.9964 - val_loss: 0.1011 - val_accuracy: 0.9690 - lr: 0.0010\n",
            "Epoch 26/200\n",
            "262/263 [============================>.] - ETA: 0s - loss: 0.0231 - accuracy: 0.9964\n",
            "Epoch 26: val_loss did not improve from 0.10109\n",
            "263/263 [==============================] - 92s 341ms/step - loss: 0.0231 - accuracy: 0.9964 - val_loss: 0.1059 - val_accuracy: 0.9642 - lr: 0.0010\n",
            "Epoch 27/200\n",
            "262/263 [============================>.] - ETA: 0s - loss: 0.0194 - accuracy: 0.9974\n",
            "Epoch 27: val_loss did not improve from 0.10109\n",
            "263/263 [==============================] - 89s 332ms/step - loss: 0.0194 - accuracy: 0.9974 - val_loss: 0.1126 - val_accuracy: 0.9604 - lr: 0.0010\n",
            "Epoch 28/200\n",
            "262/263 [============================>.] - ETA: 0s - loss: 0.0182 - accuracy: 0.9976\n",
            "Epoch 28: val_loss did not improve from 0.10109\n",
            "263/263 [==============================] - 89s 332ms/step - loss: 0.0182 - accuracy: 0.9976 - val_loss: 0.1059 - val_accuracy: 0.9604 - lr: 0.0010\n",
            "Epoch 29/200\n",
            "262/263 [============================>.] - ETA: 0s - loss: 0.0173 - accuracy: 0.9977\n",
            "Epoch 29: val_loss did not improve from 0.10109\n",
            "263/263 [==============================] - 92s 341ms/step - loss: 0.0173 - accuracy: 0.9977 - val_loss: 0.1033 - val_accuracy: 0.9652 - lr: 0.0010\n",
            "Epoch 30/200\n",
            "262/263 [============================>.] - ETA: 0s - loss: 0.0162 - accuracy: 0.9977\n",
            "Epoch 30: val_loss improved from 0.10109 to 0.09924, saving model to Seed_aug/model-00030-0.01619-0.09924-.h5\n",
            "263/263 [==============================] - 88s 327ms/step - loss: 0.0162 - accuracy: 0.9977 - val_loss: 0.0992 - val_accuracy: 0.9685 - lr: 0.0010\n",
            "Epoch 31/200\n",
            "262/263 [============================>.] - ETA: 0s - loss: 0.0151 - accuracy: 0.9982\n",
            "Epoch 31: val_loss improved from 0.09924 to 0.09688, saving model to Seed_aug/model-00031-0.01505-0.09688-.h5\n",
            "263/263 [==============================] - 88s 329ms/step - loss: 0.0151 - accuracy: 0.9982 - val_loss: 0.0969 - val_accuracy: 0.9709 - lr: 0.0010\n",
            "Epoch 32/200\n",
            "262/263 [============================>.] - ETA: 0s - loss: 0.0140 - accuracy: 0.9982\n",
            "Epoch 32: val_loss did not improve from 0.09688\n",
            "263/263 [==============================] - 88s 326ms/step - loss: 0.0140 - accuracy: 0.9982 - val_loss: 0.0984 - val_accuracy: 0.9685 - lr: 0.0010\n",
            "Epoch 33/200\n",
            "262/263 [============================>.] - ETA: 0s - loss: 0.0137 - accuracy: 0.9986\n",
            "Epoch 33: val_loss improved from 0.09688 to 0.09481, saving model to Seed_aug/model-00033-0.01371-0.09481-.h5\n",
            "263/263 [==============================] - 89s 328ms/step - loss: 0.0137 - accuracy: 0.9986 - val_loss: 0.0948 - val_accuracy: 0.9699 - lr: 0.0010\n",
            "Epoch 34/200\n",
            "262/263 [============================>.] - ETA: 0s - loss: 0.0131 - accuracy: 0.9982\n",
            "Epoch 34: val_loss did not improve from 0.09481\n",
            "263/263 [==============================] - 89s 332ms/step - loss: 0.0131 - accuracy: 0.9982 - val_loss: 0.0976 - val_accuracy: 0.9656 - lr: 0.0010\n",
            "Epoch 35/200\n",
            "262/263 [============================>.] - ETA: 0s - loss: 0.0132 - accuracy: 0.9979\n",
            "Epoch 35: val_loss did not improve from 0.09481\n",
            "263/263 [==============================] - 90s 333ms/step - loss: 0.0132 - accuracy: 0.9979 - val_loss: 0.0959 - val_accuracy: 0.9690 - lr: 0.0010\n",
            "Epoch 36/200\n",
            "262/263 [============================>.] - ETA: 0s - loss: 0.0106 - accuracy: 0.9990\n",
            "Epoch 36: val_loss did not improve from 0.09481\n",
            "263/263 [==============================] - 89s 333ms/step - loss: 0.0106 - accuracy: 0.9990 - val_loss: 0.0964 - val_accuracy: 0.9699 - lr: 0.0010\n",
            "Epoch 37/200\n",
            "262/263 [============================>.] - ETA: 0s - loss: 0.0104 - accuracy: 0.9990\n",
            "Epoch 37: val_loss did not improve from 0.09481\n",
            "263/263 [==============================] - 89s 333ms/step - loss: 0.0104 - accuracy: 0.9990 - val_loss: 0.0998 - val_accuracy: 0.9656 - lr: 0.0010\n",
            "Epoch 38/200\n",
            "262/263 [============================>.] - ETA: 0s - loss: 0.0095 - accuracy: 0.9990\n",
            "Epoch 38: val_loss did not improve from 0.09481\n",
            "263/263 [==============================] - 88s 330ms/step - loss: 0.0095 - accuracy: 0.9990 - val_loss: 0.0960 - val_accuracy: 0.9680 - lr: 0.0010\n",
            "Epoch 38: early stopping\n"
          ]
        }
      ]
    },
    {
      "cell_type": "code",
      "source": [
        "### visualizing the model results.\n",
        "acc = history.history['accuracy']\n",
        "val_acc = history.history['val_accuracy']\n",
        "\n",
        "loss = history.history['loss']\n",
        "val_loss = history.history['val_loss']\n",
        "\n",
        "epochs_range = range(38)\n",
        "\n",
        "plt.figure(figsize=(8, 8))\n",
        "plt.subplot(1, 2, 1)\n",
        "plt.plot(epochs_range, acc, label='Training Accuracy')\n",
        "plt.plot(epochs_range, val_acc, label='Validation Accuracy')\n",
        "plt.legend(loc='lower right')\n",
        "plt.title('Training and Validation Accuracy')\n",
        "\n",
        "plt.subplot(1, 2, 2)\n",
        "plt.plot(epochs_range, loss, label='Training Loss')\n",
        "plt.plot(epochs_range, val_loss, label='Validation Loss')\n",
        "plt.legend(loc='upper right')\n",
        "plt.title('Training and Validation Loss')\n",
        "plt.show()"
      ],
      "metadata": {
        "colab": {
          "base_uri": "https://localhost:8080/",
          "height": 699
        },
        "id": "0YgwZJH8tRKF",
        "outputId": "fca17fdf-39f9-433b-e323-e6fc470b7e30"
      },
      "execution_count": 51,
      "outputs": [
        {
          "output_type": "display_data",
          "data": {
            "text/plain": [
              "<Figure size 800x800 with 2 Axes>"
            ],
            "image/png": "[encoded data removed]"
          },
          "metadata": {}
        }
      ]
    },
    {
      "cell_type": "code",
      "source": [
        "from keras.utils import plot_model\n",
        "\n",
        "plot_model(model, to_file='ResNet50_model.png')"
      ],
      "metadata": {
        "colab": {
          "base_uri": "https://localhost:8080/",
          "height": 272
        },
        "id": "VkPDgevmtRQB",
        "outputId": "9f081200-5a2e-4809-8c08-93e360493347"
      },
      "execution_count": 52,
      "outputs": [
        {
          "output_type": "execute_result",
          "data": {
            "image/png": "[encoded data removed]",
            "text/plain": [
              "<IPython.core.display.Image object>"
            ]
          },
          "metadata": {},
          "execution_count": 52
        }
      ]
    },
    {
      "cell_type": "markdown",
      "source": [
        "# Observations:\n",
        "1. Achieved training accuracy= 99.__% and validation accuracy= 96.__%.\n",
        "\n",
        "2. Validation loss is decreased drastically from 0.___ to 0.___.\n",
        "\n",
        "3. Model is less overfitted compared to previous model due to use of augmentor."
      ],
      "metadata": {
        "id": "eBseYst9iqDX"
      }
    }
  ]
}